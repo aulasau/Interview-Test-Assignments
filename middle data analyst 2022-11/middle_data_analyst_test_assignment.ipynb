{
 "cells": [
  {
   "cell_type": "markdown",
   "metadata": {
    "id": "sqtLCEYq5nEa"
   },
   "source": [
    "## Задание 1 \n",
    "### Вводные: \n",
    "Атрибуция действий (активация, открытие сделки, внесение депозита и т.п) по итогам email-рассылки происходит в течение 48 часов на основе факта открытия письма. При этом, если за период в 48 часов было открыто несколько писем, действие клиента будет присвоено последнему из открытых. \n",
    "### Вопрос: \n",
    "Изменили бы вы условия атрибуции действий и, если да, то каким образом? (подробное описание) \n"
   ]
  },
  {
   "cell_type": "markdown",
   "metadata": {
    "id": "fIV__KMz5_vE"
   },
   "source": [
    "### Ответ\n",
    "Да, я бы изменил условия атрибуции. \n",
    "\n",
    "Вообще говоря, выбирая период времени в 2 суток, мы теряем информацию о долгосрочных нажатиях. Если человек заходит на почту раз или два в неделю, то с большой вероятностью мы посчитаем, что ему наши рассылки не интересны. Возможно, мы даже перестанем отправлять такой аудитории те предложения, которые могли эту аудиторию заинтересовать, т.к. хорошей практикой является уменьшение интенсивности рассылок в случае низких показателей заинтересованности клиента.  \n",
    "Тут можно предложить несколько метрик. Например, **открытие-2, открытие-5, открытие-14**, чтобы фиксировать в том числе долговременную активность пользователей. Из этих метрик можно вывести что-нибудь средневзвешенное для общей оценки письма.\n",
    "\n",
    "Теперь надо сказать, что открытие письма тоже не кажется мне единственным хорошим показателем. Хочется добавить метрик для разных аспектов \"успешности\" письма. Я бы хотел также трекать, например:\n",
    "*   Перешёл ли человек с письма на наш ресурс. Эта метрика мне кажется более важной для атрибуции действий, чем открытие письма в принципе.\n",
    "*   Перечитывал(открывал несколько раз) ли человек наше письмо\n",
    "*   Если это возможно, то хотелось бы трекать и время просмотра письма. Даже если пользователь не перейдёт сразу, в среднем долгое время просмотра может сказать нам, что письмо вызвало интерес и человек вернётся к нему и к нашему сервису.\n",
    "*    ... и т.д. Думаю, тут может быть ещё несколько вариантов\n",
    "\n",
    "\n",
    "\n",
    "Как мне кажется, лучшим подходом в случае большого количества клиентов может стать подход с машинным обучением. По сути это data-driven подход. Особенно при условии, что мы большая фирма и уже имеем аудиторию, а следовательно -- много исторических данных. \n",
    "Идея такая: давайте возьмём все те логи, что накопились, все те кратко- и долгосрочные фичи. Добавим туда тексты писем, которые использовали, дни недели и время, портрет пользователя и т.д.  \n",
    "И научим на этом всём модели машинного обучения.  \n",
    "Во-первых, подобные модели смогут показать нам, какие из придуманных нами фич лучше всего определяют атрибуцию.  \n",
    "Во-вторых, с помощью машинного обучения мы сможем предсказывать ожидаемое значение атрибуции ещё не отправленных писем.\n",
    "\n",
    "*P.S. Прошу прощения, если неправильно использовал какие-то термины, эта область для меня новая*"
   ]
  },
  {
   "cell_type": "markdown",
   "metadata": {
    "id": "tKleI9ULAQib"
   },
   "source": [
    "---\n",
    "---\n",
    "## Задание 2   (для всех задач я использовал PostgreSQL 14.4)"
   ]
  },
  {
   "cell_type": "markdown",
   "metadata": {
    "id": "nhsniLBYAcZa"
   },
   "source": [
    "### SQL 1   \n",
    "Имеется таблица с логинами пользователя. Необходимо написать запрос который вернет дату и страну первого логина для каждого пользователя   \n",
    "Исходные данные:    \n",
    ">user_id, login_dt, country   \n",
    "1, \"2020-01-01 00:00:17\", “UK”     \n",
    "2, \"2020-01-01 02:30:00\", “France”     \n",
    "1, \"2020-01-11 11:25:00\", “Spain”    \n",
    "2, \"2020-01-26 17:14:15\", “Scotland”       \n",
    "1, \"2020-02-02 14:11:57\", “Germany”    \n",
    "3, \"2020-02-18 18:43:11\", “Sweden\"    \n",
    "    \n",
    "Результат:   \n",
    ">user_id, first_login_dt, first_login_country   \n",
    "1, \"2020-01-01 00:00:17\", “UK”   \n",
    "2, \"2020-01-01 02:30:00\", “France”   \n",
    "3, \"2020-02-18 18:43:11\", “Sweden”  \n",
    "\n",
    "---\n",
    "Создание таблицы:"
   ]
  },
  {
   "cell_type": "markdown",
   "metadata": {
    "id": "_ADowBlgAgao"
   },
   "source": [
    "```sql\n",
    "CREATE TABLE test_1 \n",
    "(user_id INT,\n",
    " login_dt TIMESTAMP,\n",
    " country VARCHAR(20));\n",
    "\n",
    "INSERT INTO test_1(user_id, login_dt, country)\n",
    "VALUES (1, '2020-01-01 00:00:17', 'UK' ),\n",
    "        (2, '2020-01-01 02:30:00', 'France'),\n",
    "        (1, '2020-01-11 11:25:00', 'Spain'),\n",
    "        (2, '2020-01-26 17:14:15', 'Scotland'),\n",
    "        (1, '2020-02-02 14:11:57', 'Germany'),\n",
    "        (3, '2020-02-18 18:43:11', 'Sweden');\n",
    "```"
   ]
  },
  {
   "cell_type": "markdown",
   "metadata": {
    "id": "gIHvyhsVFBJ3"
   },
   "source": [
    "**Итоговый запрос:**\n",
    "```sql\n",
    "SELECT t1.user_id, min_log, country\n",
    "FROM test_1 AS t1 \n",
    "\t INNER JOIN (SELECT user_id, min(login_dt) AS min_log\n",
    "\t\t\t\tFROM test_1\n",
    "\t\t\t\tGROUP BY user_id) min_t\n",
    "\t ON t1.user_id = min_t.user_id AND t1.login_dt = min_t.min_log;\n",
    "```     "
   ]
  },
  {
   "cell_type": "markdown",
   "metadata": {
    "id": "5FqkUXtbOC6N"
   },
   "source": [
    "### SQL 2   \n",
    "Напишите запрос который сгенерирует все даты на заданном интервале   \n",
    "Входные параметры:   \n",
    ">start_date = 2019-12-24   \n",
    "end_date = 2020-03-15   \n",
    "\n",
    "Результат:  \n",
    ">2019-12-24   \n",
    "2019-12-25   \n",
    "2019-12-26   \n",
    "...   \n",
    "2020-03-13   \n",
    "2020-03-14   \n",
    "2020-03-15   \n",
    "\n",
    "---\n",
    "**Итоговый запрос:**"
   ]
  },
  {
   "cell_type": "markdown",
   "metadata": {
    "id": "07h1kGynQILS"
   },
   "source": [
    "```sql\n",
    "SELECT DATE(dates)\n",
    "FROM generate_series(\n",
    "  DATE '2019-12-24',\n",
    "  DATE '2020-03-15',\n",
    "  '1 day'\n",
    ") AS dates;\n",
    "\n",
    "```"
   ]
  },
  {
   "cell_type": "markdown",
   "metadata": {
    "id": "bzUqUdv-V5_2"
   },
   "source": [
    "---  \n",
    "### SQL 3   \n",
    "Имеется таблица с заявками клиента. В таблице указано момент создания заявки (created_dt) и момент окончания обработки заявки (finished_dt). Необходимо написать запрос который покажет: сколько секунд в среднем обрабатываются заявки клиента, медианное время обработки, за какое максимальное время обрабатывается 90% всех заявок.   \n",
    "Исходные данные:   \n",
    ">request_id, created_dt, finished_dt   \n",
    "1, \"2020-01-01 00:00:17\", \"2020-01-01 00:02:17\"   \n",
    "2, \"2020-01-01 00:00:18\", \"2020-01-01 00:01:42\"   \n",
    "3, \"2020-01-01 00:00:19\", \"2020-01-01 01:15:11\"   \n",
    "4, \"2020-01-01 00:00:20\", \"2020-01-01 00:03:55\"   \n",
    "5, \"2020-01-01 00:00:21\", \"2020-01-01 00:09:22\"   \n",
    "6, \"2020-01-01 00:00:22\", \"2020-01-01 00:31:05\"   \n",
    "7, \"2020-01-01 00:00:23\", \"2020-01-01 00:18:15\"   \n",
    "8, \"2020-01-01 00:00:24\", \"2020-01-01 00:02:57\"   \n",
    "9, \"2020-01-01 00:00:25\", \"2020-01-01 05:08:29\"   \n",
    "10, \"2020-01-01 00:00:26\", \"2020-01-01 00:04:33\"   \n",
    "\n",
    "Результат:   \n",
    ">average_response_time, median_response_time, perc90_response_time   \n",
    "2725.1, 394, 5891.2   \n",
    "\n",
    "---\n",
    "Создание таблицы:\n"
   ]
  },
  {
   "cell_type": "markdown",
   "metadata": {
    "id": "d5p_ZONmV9N7"
   },
   "source": [
    "```sql\n",
    "CREATE TABLE test_2 \n",
    "(\trequest_id INT,\n",
    "\tcreated_dt TIMESTAMP,\n",
    " \tfinished_dt TIMESTAMP);\n",
    "\t\n",
    "INSERT INTO test_2\n",
    "VALUES (1, '2020-01-01 00:00:17', '2020-01-01 00:02:17'),\n",
    "(2, '2020-01-01 00:00:18', '2020-01-01 00:01:42'),\n",
    "(3, '2020-01-01 00:00:19', '2020-01-01 01:15:11'),\n",
    "(4, '2020-01-01 00:00:20', '2020-01-01 00:03:55'),\n",
    "(5, '2020-01-01 00:00:21', '2020-01-01 00:09:22'),\n",
    "(6, '2020-01-01 00:00:22', '2020-01-01 00:31:05'),\n",
    "(7, '2020-01-01 00:00:23', '2020-01-01 00:18:15'),\n",
    "(8, '2020-01-01 00:00:24', '2020-01-01 00:02:57'),\n",
    "(9, '2020-01-01 00:00:25', '2020-01-01 05:08:29'),\n",
    "(10, '2020-01-01 00:00:26', '2020-01-01 00:04:33');\n",
    "\n",
    "```"
   ]
  },
  {
   "cell_type": "markdown",
   "metadata": {
    "id": "wLGoORJMe-s8"
   },
   "source": [
    "**Итоговый запрос:**\n",
    "```sql\n",
    "SELECT  EXTRACT (EPOCH FROM (AVG(finished_dt - created_dt))) AS average_response_time,\n",
    "\t\tEXTRACT (EPOCH FROM (PERCENTILE_CONT(0.5) WITHIN GROUP(ORDER BY finished_dt-created_dt))) AS median_response_time,\n",
    "\t\tEXTRACT (EPOCH FROM (PERCENTILE_DISC(0.9) WITHIN GROUP(ORDER BY finished_dt-created_dt))) AS perc90_response_time\n",
    "from test_2;\n",
    "```\n",
    "\n",
    "*P.S. В описании результата значение 90% процентиля неправильное. Настоящий ответ там = 4492.0, а не указанные 5891.2.*"
   ]
  },
  {
   "cell_type": "markdown",
   "metadata": {
    "id": "qNIpgI-w6CO8"
   },
   "source": [
    " \n",
    "---  \n",
    "### SQL 4   \n",
    "Необходимо написать запрос, который по таблице с интервалами объединит эти интервалы в случае если они пересекаются или граничат.   \n",
    "Исходные данные:   \n",
    ">start_date, end_date   \n",
    "2020-01-01, 2020-01-15   \n",
    "2020-01-13, 2020-01-30   \n",
    "2020-02-01, 2020-02-05   \n",
    "2020-02-15, 2020-02-27  \n",
    "2020-02-16, 2020-02-19   \n",
    "2020-02-03, 2020-02-16   \n",
    "2020-03-01, 2020-05-04   \n",
    "2020-06-12, 2020-06-22   \n",
    "2020-04-17, 2020-06-19   \n",
    "\n",
    "Результат:   \n",
    ">2020-01-01, 2020-01-30   \n",
    "2020-02-01, 2020-02-27   \n",
    "2020-03-01, 2020-06-22   \n",
    "\n",
    "---\n",
    "Создание таблицы:"
   ]
  },
  {
   "cell_type": "markdown",
   "metadata": {
    "id": "PfANapszANsp"
   },
   "source": [
    "```sql\n",
    "CREATE TABLE test_3\n",
    "(\tstart_date DATE,\n",
    "\tend_date DATE);\n",
    "\n",
    "INSERT INTO test_3\n",
    "VALUES ('2020-01-01', '2020-01-15'),\n",
    "\t\t('2020-01-13', '2020-01-30'),\n",
    "\t\t('2020-02-01', '2020-02-05'),\n",
    "\t\t('2020-02-15', '2020-02-27'),\n",
    "\t\t('2020-02-16', '2020-02-19'),\n",
    "\t\t('2020-02-03', '2020-02-16'),\n",
    "\t\t('2020-03-01', '2020-05-04'),\n",
    "\t\t('2020-06-12', '2020-06-22'),\n",
    "\t\t('2020-04-17', '2020-06-19');\n",
    "```"
   ]
  },
  {
   "cell_type": "markdown",
   "metadata": {
    "id": "Oy7QXhn9Ts96"
   },
   "source": [
    "**Итоговый запрос:**\n",
    "```sql\n",
    "WITH range_tab AS (\n",
    "\tSELECT DATERANGE(start_date, end_date) as range\n",
    "\tfrom test_3),\n",
    "\t\n",
    "\twindow_end_date AS (\n",
    "\tSELECT range,\n",
    "\t\t LOWER(range) AS start_date,\n",
    "\t\t MAX(UPPER(range)) OVER (ORDER BY range) AS end_date\n",
    "\tFROM   range_tab),\n",
    "\t\n",
    "\tgap_steps AS (\n",
    "\tSELECT *, LAG(end_date) OVER (ORDER BY range) < start_date or NULL AS step\n",
    "\tFROM   window_end_date),\n",
    "\t\n",
    "\toverlapped_groups AS (\n",
    "\tSELECT *, COUNT(step) OVER (ORDER BY range) AS groupp\n",
    "\tFROM   gap_steps)\n",
    "SELECT MIN(start_date) AS start_date, MAX(end_date) AS end_date\n",
    "FROM   overlapped_groups\n",
    "GROUP  BY groupp\n",
    "ORDER BY start_date;\n",
    "```"
   ]
  },
  {
   "cell_type": "markdown",
   "metadata": {
    "id": "uypa55sUv1T0"
   },
   "source": [
    "---\n",
    "---\n",
    "---\n",
    "---\n",
    "## Задание 3\n",
    "А/Б тест   \n",
    "В файле mission2ab данные по АБ-тестированию, тест был направлен на улучшение конверсии и размеров платежей пользователей.  \n",
    "\n",
    "\n",
    "Данные внутри:  \n",
    ">uid - уникальный айди пользователя  \n",
    "group - группа пользователей контроль/тест  \n",
    "сountry - страна  \n",
    "conversion - флаг конверсии в платеж  \n",
    "payments - сумма платежа  \n",
    "\n",
    "\n",
    "Задача: проанализировать тест понять какая группа лучше, стоит ли раскатывать изменения одной группы на всех пользователей. Достоверны ли полученные результаты?\n"
   ]
  },
  {
   "cell_type": "markdown",
   "metadata": {
    "id": "NUhEzhB_2n1h"
   },
   "source": [
    "---\n",
    "## Решение\n",
    "\n",
    "---\n",
    "### Немного рассуждений\n",
    "\n",
    "Перед началом анализа нам надо определить с некоторыми ограничениями.\n",
    "1. Нам нужно сформулировать нулевую и альтернативную гипотезы(в том числе насколько большие изменения мы хотим видеть).  \n",
    "Помним о \"проблеме подглядывания\". Гипотезы должны быть сформулированы до начала теста. Но!  \n",
    "Никаких исторических данных у меня нет. Поэтому я планирую посмотреть на средние значения метрик у **КОНТРОЛЬНОЙ группы**, не глядя в тестовую. Просто для лучшего понимания задачи. \n",
    "\n",
    "2. Нужно решить, какое p-value и какую мощность теста мы хотим видеть. Тут далеко ходить не будем и скажем, что порог значимости p-value = 0.05,\n",
    "мощность теста = 0.8. \n",
    "\n",
    "3. Тест был направлен и на улучшение конверсии, и на повышение размеров платежей пользователей.\n",
    "Т.е. на самом деле это 2 метрики. Поэтому нам стоит использовать поправку для множественных сравнений при оценке теста.\n",
    "\n",
    "---"
   ]
  },
  {
   "cell_type": "markdown",
   "metadata": {
    "id": "cEvvKK5JmBWe"
   },
   "source": [
    "---\n",
    "### EDA & Preprocessing "
   ]
  },
  {
   "cell_type": "code",
   "execution_count": 1,
   "metadata": {
    "id": "iXrChi32yjeA"
   },
   "outputs": [],
   "source": [
    "import numpy as np\n",
    "import pandas as pd\n",
    "from matplotlib import pyplot as plt\n",
    "import seaborn as sns"
   ]
  },
  {
   "cell_type": "code",
   "execution_count": 2,
   "metadata": {
    "id": "58_QU_OXzKlV"
   },
   "outputs": [],
   "source": [
    "df = pd.read_excel('mission2ab (1).xlsx')"
   ]
  },
  {
   "cell_type": "code",
   "execution_count": 3,
   "metadata": {
    "colab": {
     "base_uri": "https://localhost:8080/",
     "height": 206
    },
    "id": "LyQCdwK5Z7QQ",
    "outputId": "39159e3e-94fa-4341-95cf-7a61096b82eb"
   },
   "outputs": [
    {
     "data": {
      "text/html": [
       "\n",
       "  <div id=\"df-478d2ba8-592c-4fae-9797-cb97bd83731b\">\n",
       "    <div class=\"colab-df-container\">\n",
       "      <div>\n",
       "<style scoped>\n",
       "    .dataframe tbody tr th:only-of-type {\n",
       "        vertical-align: middle;\n",
       "    }\n",
       "\n",
       "    .dataframe tbody tr th {\n",
       "        vertical-align: top;\n",
       "    }\n",
       "\n",
       "    .dataframe thead th {\n",
       "        text-align: right;\n",
       "    }\n",
       "</style>\n",
       "<table border=\"1\" class=\"dataframe\">\n",
       "  <thead>\n",
       "    <tr style=\"text-align: right;\">\n",
       "      <th></th>\n",
       "      <th>uid</th>\n",
       "      <th>group</th>\n",
       "      <th>country</th>\n",
       "      <th>conversion</th>\n",
       "      <th>payments</th>\n",
       "    </tr>\n",
       "  </thead>\n",
       "  <tbody>\n",
       "    <tr>\n",
       "      <th>0</th>\n",
       "      <td>067939C6-68CE-9E62-9884-E3B5295D66F6</td>\n",
       "      <td>control</td>\n",
       "      <td>India</td>\n",
       "      <td>0.0</td>\n",
       "      <td>0.0</td>\n",
       "    </tr>\n",
       "    <tr>\n",
       "      <th>1</th>\n",
       "      <td>66DE3275-1C5C-4789-CBE4-62BED8904FC4</td>\n",
       "      <td>test</td>\n",
       "      <td>India</td>\n",
       "      <td>0.0</td>\n",
       "      <td>0.0</td>\n",
       "    </tr>\n",
       "    <tr>\n",
       "      <th>2</th>\n",
       "      <td>915A41CA-496F-BE66-9A0C-6A4316BF986B</td>\n",
       "      <td>test</td>\n",
       "      <td>India</td>\n",
       "      <td>0.0</td>\n",
       "      <td>0.0</td>\n",
       "    </tr>\n",
       "    <tr>\n",
       "      <th>3</th>\n",
       "      <td>EEE41B14-E897-27D5-9860-660542ED9DE9</td>\n",
       "      <td>test</td>\n",
       "      <td>India</td>\n",
       "      <td>0.0</td>\n",
       "      <td>0.0</td>\n",
       "    </tr>\n",
       "    <tr>\n",
       "      <th>4</th>\n",
       "      <td>BD642D24-4946-1717-1C23-130D69602876</td>\n",
       "      <td>test</td>\n",
       "      <td>India</td>\n",
       "      <td>0.0</td>\n",
       "      <td>0.0</td>\n",
       "    </tr>\n",
       "  </tbody>\n",
       "</table>\n",
       "</div>\n",
       "      <button class=\"colab-df-convert\" onclick=\"convertToInteractive('df-478d2ba8-592c-4fae-9797-cb97bd83731b')\"\n",
       "              title=\"Convert this dataframe to an interactive table.\"\n",
       "              style=\"display:none;\">\n",
       "        \n",
       "  <svg xmlns=\"http://www.w3.org/2000/svg\" height=\"24px\"viewBox=\"0 0 24 24\"\n",
       "       width=\"24px\">\n",
       "    <path d=\"M0 0h24v24H0V0z\" fill=\"none\"/>\n",
       "    <path d=\"M18.56 5.44l.94 2.06.94-2.06 2.06-.94-2.06-.94-.94-2.06-.94 2.06-2.06.94zm-11 1L8.5 8.5l.94-2.06 2.06-.94-2.06-.94L8.5 2.5l-.94 2.06-2.06.94zm10 10l.94 2.06.94-2.06 2.06-.94-2.06-.94-.94-2.06-.94 2.06-2.06.94z\"/><path d=\"M17.41 7.96l-1.37-1.37c-.4-.4-.92-.59-1.43-.59-.52 0-1.04.2-1.43.59L10.3 9.45l-7.72 7.72c-.78.78-.78 2.05 0 2.83L4 21.41c.39.39.9.59 1.41.59.51 0 1.02-.2 1.41-.59l7.78-7.78 2.81-2.81c.8-.78.8-2.07 0-2.86zM5.41 20L4 18.59l7.72-7.72 1.47 1.35L5.41 20z\"/>\n",
       "  </svg>\n",
       "      </button>\n",
       "      \n",
       "  <style>\n",
       "    .colab-df-container {\n",
       "      display:flex;\n",
       "      flex-wrap:wrap;\n",
       "      gap: 12px;\n",
       "    }\n",
       "\n",
       "    .colab-df-convert {\n",
       "      background-color: #E8F0FE;\n",
       "      border: none;\n",
       "      border-radius: 50%;\n",
       "      cursor: pointer;\n",
       "      display: none;\n",
       "      fill: #1967D2;\n",
       "      height: 32px;\n",
       "      padding: 0 0 0 0;\n",
       "      width: 32px;\n",
       "    }\n",
       "\n",
       "    .colab-df-convert:hover {\n",
       "      background-color: #E2EBFA;\n",
       "      box-shadow: 0px 1px 2px rgba(60, 64, 67, 0.3), 0px 1px 3px 1px rgba(60, 64, 67, 0.15);\n",
       "      fill: #174EA6;\n",
       "    }\n",
       "\n",
       "    [theme=dark] .colab-df-convert {\n",
       "      background-color: #3B4455;\n",
       "      fill: #D2E3FC;\n",
       "    }\n",
       "\n",
       "    [theme=dark] .colab-df-convert:hover {\n",
       "      background-color: #434B5C;\n",
       "      box-shadow: 0px 1px 3px 1px rgba(0, 0, 0, 0.15);\n",
       "      filter: drop-shadow(0px 1px 2px rgba(0, 0, 0, 0.3));\n",
       "      fill: #FFFFFF;\n",
       "    }\n",
       "  </style>\n",
       "\n",
       "      <script>\n",
       "        const buttonEl =\n",
       "          document.querySelector('#df-478d2ba8-592c-4fae-9797-cb97bd83731b button.colab-df-convert');\n",
       "        buttonEl.style.display =\n",
       "          google.colab.kernel.accessAllowed ? 'block' : 'none';\n",
       "\n",
       "        async function convertToInteractive(key) {\n",
       "          const element = document.querySelector('#df-478d2ba8-592c-4fae-9797-cb97bd83731b');\n",
       "          const dataTable =\n",
       "            await google.colab.kernel.invokeFunction('convertToInteractive',\n",
       "                                                     [key], {});\n",
       "          if (!dataTable) return;\n",
       "\n",
       "          const docLinkHtml = 'Like what you see? Visit the ' +\n",
       "            '<a target=\"_blank\" href=https://colab.research.google.com/notebooks/data_table.ipynb>data table notebook</a>'\n",
       "            + ' to learn more about interactive tables.';\n",
       "          element.innerHTML = '';\n",
       "          dataTable['output_type'] = 'display_data';\n",
       "          await google.colab.output.renderOutput(dataTable, element);\n",
       "          const docLink = document.createElement('div');\n",
       "          docLink.innerHTML = docLinkHtml;\n",
       "          element.appendChild(docLink);\n",
       "        }\n",
       "      </script>\n",
       "    </div>\n",
       "  </div>\n",
       "  "
      ],
      "text/plain": [
       "                                    uid    group country  conversion payments\n",
       "0  067939C6-68CE-9E62-9884-E3B5295D66F6  control   India         0.0      0.0\n",
       "1  66DE3275-1C5C-4789-CBE4-62BED8904FC4     test   India         0.0      0.0\n",
       "2  915A41CA-496F-BE66-9A0C-6A4316BF986B     test   India         0.0      0.0\n",
       "3  EEE41B14-E897-27D5-9860-660542ED9DE9     test   India         0.0      0.0\n",
       "4  BD642D24-4946-1717-1C23-130D69602876     test   India         0.0      0.0"
      ]
     },
     "execution_count": 3,
     "metadata": {},
     "output_type": "execute_result"
    }
   ],
   "source": [
    "df.head()"
   ]
  },
  {
   "cell_type": "code",
   "execution_count": 4,
   "metadata": {
    "colab": {
     "base_uri": "https://localhost:8080/"
    },
    "id": "3bdZa5J4M93x",
    "outputId": "00f594b8-cb77-436e-c358-bf2796171859"
   },
   "outputs": [
    {
     "name": "stdout",
     "output_type": "stream",
     "text": [
      "<class 'pandas.core.frame.DataFrame'>\n",
      "RangeIndex: 1300 entries, 0 to 1299\n",
      "Data columns (total 5 columns):\n",
      " #   Column      Non-Null Count  Dtype  \n",
      "---  ------      --------------  -----  \n",
      " 0   uid         1300 non-null   object \n",
      " 1   group       1300 non-null   object \n",
      " 2   country     1300 non-null   object \n",
      " 3   conversion  1300 non-null   float64\n",
      " 4   payments    1300 non-null   object \n",
      "dtypes: float64(1), object(4)\n",
      "memory usage: 50.9+ KB\n"
     ]
    }
   ],
   "source": [
    "df.info()"
   ]
  },
  {
   "cell_type": "markdown",
   "metadata": {
    "id": "d7ih2AgfRy3l"
   },
   "source": [
    "Столбец 'payments' должен иметь тип float, а не object."
   ]
  },
  {
   "cell_type": "code",
   "execution_count": 5,
   "metadata": {
    "colab": {
     "base_uri": "https://localhost:8080/"
    },
    "id": "tCYAKW8QOgCE",
    "outputId": "59bcf37b-1d9c-4e90-fca7-cdc5b6291e4e"
   },
   "outputs": [
    {
     "data": {
      "text/plain": [
       "array(['0.0', '3.95', '3.78', datetime.datetime(2022, 8, 1, 0, 0), '0.74',\n",
       "       '2.56', datetime.datetime(2022, 2, 5, 0, 0), '4.63', '2.91',\n",
       "       '0.61', '2.36', '0.48', '0.95', '2.62', '0.55',\n",
       "       datetime.datetime(2022, 2, 1, 0, 0), '2.83',\n",
       "       datetime.datetime(2022, 1, 14, 0, 0), '0.75', '11.95'],\n",
       "      dtype=object)"
      ]
     },
     "execution_count": 5,
     "metadata": {},
     "output_type": "execute_result"
    }
   ],
   "source": [
    "df['payments'].unique()[:20]"
   ]
  },
  {
   "cell_type": "markdown",
   "metadata": {
    "id": "bDHb7RyIYpJE"
   },
   "source": [
    "Как видно, файл пришёл к нам с неправильным форматированием, часть чисел с плавающей точкой была занесена в таблицу в формате даты.\n",
    "Нужно это исправить."
   ]
  },
  {
   "cell_type": "code",
   "execution_count": 6,
   "metadata": {
    "id": "CF3PkF7pzw2h"
   },
   "outputs": [],
   "source": [
    "to_nums = pd.to_numeric(df['payments'], errors='coerce') # get nans on cells with datetime"
   ]
  },
  {
   "cell_type": "code",
   "execution_count": 7,
   "metadata": {
    "colab": {
     "base_uri": "https://localhost:8080/"
    },
    "id": "SJAW3O-raEzK",
    "outputId": "62b27c47-9f82-4dfe-a384-65183c5ee58c"
   },
   "outputs": [
    {
     "data": {
      "text/plain": [
       "23     2022-08-01 00:00:00\n",
       "50     2022-02-05 00:00:00\n",
       "95     2022-02-01 00:00:00\n",
       "99     2022-01-14 00:00:00\n",
       "207    2022-06-24 00:00:00\n",
       "224    2022-07-11 00:00:00\n",
       "238    2022-06-04 00:00:00\n",
       "317    2022-01-03 00:00:00\n",
       "340    2022-05-01 00:00:00\n",
       "343    2022-11-06 00:00:00\n",
       "Name: payments, dtype: object"
      ]
     },
     "execution_count": 7,
     "metadata": {},
     "output_type": "execute_result"
    }
   ],
   "source": [
    "date_index = to_nums.index[to_nums.apply(np.isnan)]  # get indexes of nans (of datetime values in df)\n",
    "dates = df['payments'][date_index]\n",
    "dates[:10]"
   ]
  },
  {
   "cell_type": "markdown",
   "metadata": {
    "id": "c54Y2KT4aEa7"
   },
   "source": [
    "Теперь нужно форматировать дату и получить значения float. Для этого надо из даты достать день и месяц в формате \"дд.мм\" и конвертировать в float.  \n",
    "\n",
    "Просмотрев файл данных глазами, я вижу, что существует ещё одна проблема: в файле встречаются значения как 03.07, так и 8.1. Пандас читает их одинаково в формате 03.07, 08.01. То есть в некоторых случаях, когда месяц имеет одночисленный номер, мы теряем понимание, стоял ли он в разряде десятичной или сотой доли.  \n",
    " Т.о. если я сейчас склею месяц и день, то добавлю ошибку в данные. Мне придётся пойти на это, так как быстрого способа программно это исправить я не придумал.  \n",
    "Поэтому будем работать с шумом. Благо он не появляется в целой части числа, только в дробной, которая < 1. "
   ]
  },
  {
   "cell_type": "code",
   "execution_count": 8,
   "metadata": {
    "colab": {
     "base_uri": "https://localhost:8080/"
    },
    "id": "nytJe34Phdi4",
    "outputId": "25e7483f-e65f-4326-ab5f-83d558ccd8e4"
   },
   "outputs": [
    {
     "data": {
      "text/plain": [
       "23    2022-08-01\n",
       "50    2022-02-05\n",
       "95    2022-02-01\n",
       "99    2022-01-14\n",
       "207   2022-06-24\n",
       "Name: payments, dtype: datetime64[ns]"
      ]
     },
     "execution_count": 8,
     "metadata": {},
     "output_type": "execute_result"
    }
   ],
   "source": [
    "dates = pd.to_datetime(dates)\n",
    "dates[:5]"
   ]
  },
  {
   "cell_type": "code",
   "execution_count": 9,
   "metadata": {
    "colab": {
     "base_uri": "https://localhost:8080/"
    },
    "id": "aVZ8fmcIdj8e",
    "outputId": "24eba4f4-e033-4de3-aa25-ffa5801201dd"
   },
   "outputs": [
    {
     "data": {
      "text/plain": [
       "23      1.8\n",
       "50      5.2\n",
       "95      1.2\n",
       "99     14.1\n",
       "207    24.6\n",
       "Name: payments, dtype: float64"
      ]
     },
     "execution_count": 9,
     "metadata": {},
     "output_type": "execute_result"
    }
   ],
   "source": [
    "dates = dates.apply(lambda x: float(str(x.day) + '.' + str(x.month)))\n",
    "dates[:5]"
   ]
  },
  {
   "cell_type": "code",
   "execution_count": 10,
   "metadata": {
    "colab": {
     "base_uri": "https://localhost:8080/"
    },
    "id": "5vzsPx-AaDcL",
    "outputId": "c76cbd32-8f09-454b-9169-09f295ebd4d2"
   },
   "outputs": [
    {
     "name": "stderr",
     "output_type": "stream",
     "text": [
      "/usr/local/lib/python3.7/dist-packages/pandas/core/indexing.py:1732: SettingWithCopyWarning: \n",
      "A value is trying to be set on a copy of a slice from a DataFrame\n",
      "\n",
      "See the caveats in the documentation: https://pandas.pydata.org/pandas-docs/stable/user_guide/indexing.html#returning-a-view-versus-a-copy\n",
      "  self._setitem_single_block(indexer, value, name)\n"
     ]
    }
   ],
   "source": [
    "df.payments.iloc[dates.index] = dates"
   ]
  },
  {
   "cell_type": "code",
   "execution_count": 11,
   "metadata": {
    "colab": {
     "base_uri": "https://localhost:8080/"
    },
    "id": "IfWjpgqxjw44",
    "outputId": "04425ef2-70db-48d0-b321-109e4596d1fd"
   },
   "outputs": [
    {
     "name": "stdout",
     "output_type": "stream",
     "text": [
      "<class 'pandas.core.frame.DataFrame'>\n",
      "RangeIndex: 1300 entries, 0 to 1299\n",
      "Data columns (total 5 columns):\n",
      " #   Column      Non-Null Count  Dtype  \n",
      "---  ------      --------------  -----  \n",
      " 0   uid         1300 non-null   object \n",
      " 1   group       1300 non-null   object \n",
      " 2   country     1300 non-null   object \n",
      " 3   conversion  1300 non-null   float64\n",
      " 4   payments    1300 non-null   float64\n",
      "dtypes: float64(2), object(3)\n",
      "memory usage: 50.9+ KB\n"
     ]
    }
   ],
   "source": [
    "df.payments = pd.to_numeric(df.payments)\n",
    "df.info()"
   ]
  },
  {
   "cell_type": "markdown",
   "metadata": {
    "id": "vhKhsHiIkO1R"
   },
   "source": [
    "У нас получилось! Теперь можно работать с данными."
   ]
  },
  {
   "cell_type": "markdown",
   "metadata": {
    "id": "Cr4JyVVjn951"
   },
   "source": [
    "#### Посмотрим немного на сами данные.\n",
    "У нас не так много фич в данных, при этом мы не хотим подсматривать в тестовую группу до того, как выберем параметры A/B теста. \n",
    "Но размер выборки и распределение по странам посмотреть можно."
   ]
  },
  {
   "cell_type": "code",
   "execution_count": 12,
   "metadata": {
    "id": "UYG3ZpmN-bDw"
   },
   "outputs": [],
   "source": [
    "plt.rcParams[\"figure.figsize\"] = (8,5)"
   ]
  },
  {
   "cell_type": "code",
   "execution_count": 13,
   "metadata": {
    "colab": {
     "base_uri": "https://localhost:8080/",
     "height": 334
    },
    "id": "ZVcoyPvOzx2v",
    "outputId": "d4f7b0d9-d20c-48a6-99db-f712504b9a02"
   },
   "outputs": [
    {
     "data": {
      "image/png": "[encoded data removed]",
      "text/plain": [
       "<Figure size 576x360 with 1 Axes>"
      ]
     },
     "metadata": {
      "needs_background": "light"
     },
     "output_type": "display_data"
    }
   ],
   "source": [
    "sns.countplot(data=df, x='group');"
   ]
  },
  {
   "cell_type": "code",
   "execution_count": 14,
   "metadata": {
    "colab": {
     "base_uri": "https://localhost:8080/"
    },
    "id": "H1m4ygqTt7n2",
    "outputId": "90e60eb9-91e9-4bc3-ac5e-9c3e213fc178"
   },
   "outputs": [
    {
     "data": {
      "text/plain": [
       "test       656\n",
       "control    644\n",
       "Name: group, dtype: int64"
      ]
     },
     "execution_count": 14,
     "metadata": {},
     "output_type": "execute_result"
    }
   ],
   "source": [
    "df.group.value_counts()"
   ]
  },
  {
   "cell_type": "code",
   "execution_count": 15,
   "metadata": {
    "colab": {
     "base_uri": "https://localhost:8080/",
     "height": 334
    },
    "id": "JJiH-0SMnOpY",
    "outputId": "5cc2ecef-ef77-4f28-f861-0bdc56135c6d"
   },
   "outputs": [
    {
     "data": {
      "image/png": "[encoded data removed]",
      "text/plain": [
       "<Figure size 576x360 with 1 Axes>"
      ]
     },
     "metadata": {
      "needs_background": "light"
     },
     "output_type": "display_data"
    }
   ],
   "source": [
    "sns.countplot(data=df, x='country', hue='group');"
   ]
  },
  {
   "cell_type": "markdown",
   "metadata": {
    "id": "H8s8PM2ktjOA"
   },
   "source": [
    "Видим, что выборки по размеру равные, ~650 наблюдений в каждой.  \n",
    "По странам наблюдается небольшой дисбаланс, тестовая выборка доминирует в Филиппинах и слегка отстаёт в Индии и Индонезии по кол-ву записей.  \n",
    "Надеюсь, A/A тест был проведён и стат.значимых различий в выборках предыдущий исследователь не заметил :)"
   ]
  },
  {
   "cell_type": "markdown",
   "metadata": {
    "id": "413_R5ksvI-c"
   },
   "source": [
    "Посмотрим на среднее значение чека и конверсии в КОНТРОЛЬНОЙ выборке.  \n",
    "Также интересно узнать, насколько это значение зависит от страны."
   ]
  },
  {
   "cell_type": "code",
   "execution_count": 16,
   "metadata": {
    "id": "hupaLybdvcQw"
   },
   "outputs": [],
   "source": [
    "control = df[df.group == 'control']"
   ]
  },
  {
   "cell_type": "code",
   "execution_count": 17,
   "metadata": {
    "id": "V4n84hKlv8vi"
   },
   "outputs": [],
   "source": [
    "conv_control = control[['country', 'conversion']].groupby(by='country').sum()\n",
    "conv_control = conv_control.reset_index()"
   ]
  },
  {
   "cell_type": "code",
   "execution_count": 18,
   "metadata": {
    "colab": {
     "base_uri": "https://localhost:8080/",
     "height": 334
    },
    "id": "0H1l9kqbvhlY",
    "outputId": "3aa75650-4aea-43ae-cdc7-b053c73b148c"
   },
   "outputs": [
    {
     "data": {
      "image/png": "[encoded data removed]",
      "text/plain": [
       "<Figure size 576x360 with 1 Axes>"
      ]
     },
     "metadata": {
      "needs_background": "light"
     },
     "output_type": "display_data"
    }
   ],
   "source": [
    "sns.barplot(data=conv_control, x='conversion', y='country');"
   ]
  },
  {
   "cell_type": "code",
   "execution_count": 19,
   "metadata": {
    "colab": {
     "base_uri": "https://localhost:8080/",
     "height": 143
    },
    "id": "VBMDvXYj1Gqs",
    "outputId": "6d961e1a-6a94-4aa2-cb0e-26ceb6d6cfa6"
   },
   "outputs": [
    {
     "data": {
      "text/html": [
       "\n",
       "  <div id=\"df-9597a3f2-54de-404c-8d4f-e2903207b1c6\">\n",
       "    <div class=\"colab-df-container\">\n",
       "      <div>\n",
       "<style scoped>\n",
       "    .dataframe tbody tr th:only-of-type {\n",
       "        vertical-align: middle;\n",
       "    }\n",
       "\n",
       "    .dataframe tbody tr th {\n",
       "        vertical-align: top;\n",
       "    }\n",
       "\n",
       "    .dataframe thead th {\n",
       "        text-align: right;\n",
       "    }\n",
       "</style>\n",
       "<table border=\"1\" class=\"dataframe\">\n",
       "  <thead>\n",
       "    <tr style=\"text-align: right;\">\n",
       "      <th></th>\n",
       "      <th>country</th>\n",
       "      <th>conversion</th>\n",
       "    </tr>\n",
       "  </thead>\n",
       "  <tbody>\n",
       "    <tr>\n",
       "      <th>0</th>\n",
       "      <td>India</td>\n",
       "      <td>39.0</td>\n",
       "    </tr>\n",
       "    <tr>\n",
       "      <th>1</th>\n",
       "      <td>Indonesia</td>\n",
       "      <td>31.0</td>\n",
       "    </tr>\n",
       "    <tr>\n",
       "      <th>2</th>\n",
       "      <td>Philippines</td>\n",
       "      <td>12.0</td>\n",
       "    </tr>\n",
       "  </tbody>\n",
       "</table>\n",
       "</div>\n",
       "      <button class=\"colab-df-convert\" onclick=\"convertToInteractive('df-9597a3f2-54de-404c-8d4f-e2903207b1c6')\"\n",
       "              title=\"Convert this dataframe to an interactive table.\"\n",
       "              style=\"display:none;\">\n",
       "        \n",
       "  <svg xmlns=\"http://www.w3.org/2000/svg\" height=\"24px\"viewBox=\"0 0 24 24\"\n",
       "       width=\"24px\">\n",
       "    <path d=\"M0 0h24v24H0V0z\" fill=\"none\"/>\n",
       "    <path d=\"M18.56 5.44l.94 2.06.94-2.06 2.06-.94-2.06-.94-.94-2.06-.94 2.06-2.06.94zm-11 1L8.5 8.5l.94-2.06 2.06-.94-2.06-.94L8.5 2.5l-.94 2.06-2.06.94zm10 10l.94 2.06.94-2.06 2.06-.94-2.06-.94-.94-2.06-.94 2.06-2.06.94z\"/><path d=\"M17.41 7.96l-1.37-1.37c-.4-.4-.92-.59-1.43-.59-.52 0-1.04.2-1.43.59L10.3 9.45l-7.72 7.72c-.78.78-.78 2.05 0 2.83L4 21.41c.39.39.9.59 1.41.59.51 0 1.02-.2 1.41-.59l7.78-7.78 2.81-2.81c.8-.78.8-2.07 0-2.86zM5.41 20L4 18.59l7.72-7.72 1.47 1.35L5.41 20z\"/>\n",
       "  </svg>\n",
       "      </button>\n",
       "      \n",
       "  <style>\n",
       "    .colab-df-container {\n",
       "      display:flex;\n",
       "      flex-wrap:wrap;\n",
       "      gap: 12px;\n",
       "    }\n",
       "\n",
       "    .colab-df-convert {\n",
       "      background-color: #E8F0FE;\n",
       "      border: none;\n",
       "      border-radius: 50%;\n",
       "      cursor: pointer;\n",
       "      display: none;\n",
       "      fill: #1967D2;\n",
       "      height: 32px;\n",
       "      padding: 0 0 0 0;\n",
       "      width: 32px;\n",
       "    }\n",
       "\n",
       "    .colab-df-convert:hover {\n",
       "      background-color: #E2EBFA;\n",
       "      box-shadow: 0px 1px 2px rgba(60, 64, 67, 0.3), 0px 1px 3px 1px rgba(60, 64, 67, 0.15);\n",
       "      fill: #174EA6;\n",
       "    }\n",
       "\n",
       "    [theme=dark] .colab-df-convert {\n",
       "      background-color: #3B4455;\n",
       "      fill: #D2E3FC;\n",
       "    }\n",
       "\n",
       "    [theme=dark] .colab-df-convert:hover {\n",
       "      background-color: #434B5C;\n",
       "      box-shadow: 0px 1px 3px 1px rgba(0, 0, 0, 0.15);\n",
       "      filter: drop-shadow(0px 1px 2px rgba(0, 0, 0, 0.3));\n",
       "      fill: #FFFFFF;\n",
       "    }\n",
       "  </style>\n",
       "\n",
       "      <script>\n",
       "        const buttonEl =\n",
       "          document.querySelector('#df-9597a3f2-54de-404c-8d4f-e2903207b1c6 button.colab-df-convert');\n",
       "        buttonEl.style.display =\n",
       "          google.colab.kernel.accessAllowed ? 'block' : 'none';\n",
       "\n",
       "        async function convertToInteractive(key) {\n",
       "          const element = document.querySelector('#df-9597a3f2-54de-404c-8d4f-e2903207b1c6');\n",
       "          const dataTable =\n",
       "            await google.colab.kernel.invokeFunction('convertToInteractive',\n",
       "                                                     [key], {});\n",
       "          if (!dataTable) return;\n",
       "\n",
       "          const docLinkHtml = 'Like what you see? Visit the ' +\n",
       "            '<a target=\"_blank\" href=https://colab.research.google.com/notebooks/data_table.ipynb>data table notebook</a>'\n",
       "            + ' to learn more about interactive tables.';\n",
       "          element.innerHTML = '';\n",
       "          dataTable['output_type'] = 'display_data';\n",
       "          await google.colab.output.renderOutput(dataTable, element);\n",
       "          const docLink = document.createElement('div');\n",
       "          docLink.innerHTML = docLinkHtml;\n",
       "          element.appendChild(docLink);\n",
       "        }\n",
       "      </script>\n",
       "    </div>\n",
       "  </div>\n",
       "  "
      ],
      "text/plain": [
       "       country  conversion\n",
       "0        India        39.0\n",
       "1    Indonesia        31.0\n",
       "2  Philippines        12.0"
      ]
     },
     "execution_count": 19,
     "metadata": {},
     "output_type": "execute_result"
    }
   ],
   "source": [
    "conv_control"
   ]
  },
  {
   "cell_type": "code",
   "execution_count": 20,
   "metadata": {
    "colab": {
     "base_uri": "https://localhost:8080/",
     "height": 334
    },
    "id": "5vwciZLO2KDo",
    "outputId": "374cc22d-55dc-4295-8944-86f1ad876b90"
   },
   "outputs": [
    {
     "data": {
      "image/png": "[encoded data removed]",
      "text/plain": [
       "<Figure size 576x360 with 1 Axes>"
      ]
     },
     "metadata": {
      "needs_background": "light"
     },
     "output_type": "display_data"
    }
   ],
   "source": [
    "pay_control = control[['country', 'payments']].groupby(by='country').sum()\n",
    "pay_control = pay_control.reset_index()\n",
    "sns.barplot(data=pay_control, x='payments', y='country');"
   ]
  },
  {
   "cell_type": "code",
   "execution_count": 21,
   "metadata": {
    "colab": {
     "base_uri": "https://localhost:8080/",
     "height": 143
    },
    "id": "QAlSz6keFnlt",
    "outputId": "b3d69d67-21e2-4d8c-cc4f-c4a75ed18f56"
   },
   "outputs": [
    {
     "data": {
      "text/html": [
       "\n",
       "  <div id=\"df-6d551c24-9ddc-4578-815d-7514e27df82c\">\n",
       "    <div class=\"colab-df-container\">\n",
       "      <div>\n",
       "<style scoped>\n",
       "    .dataframe tbody tr th:only-of-type {\n",
       "        vertical-align: middle;\n",
       "    }\n",
       "\n",
       "    .dataframe tbody tr th {\n",
       "        vertical-align: top;\n",
       "    }\n",
       "\n",
       "    .dataframe thead th {\n",
       "        text-align: right;\n",
       "    }\n",
       "</style>\n",
       "<table border=\"1\" class=\"dataframe\">\n",
       "  <thead>\n",
       "    <tr style=\"text-align: right;\">\n",
       "      <th></th>\n",
       "      <th>country</th>\n",
       "      <th>payments</th>\n",
       "    </tr>\n",
       "  </thead>\n",
       "  <tbody>\n",
       "    <tr>\n",
       "      <th>0</th>\n",
       "      <td>India</td>\n",
       "      <td>127.16</td>\n",
       "    </tr>\n",
       "    <tr>\n",
       "      <th>1</th>\n",
       "      <td>Indonesia</td>\n",
       "      <td>157.20</td>\n",
       "    </tr>\n",
       "    <tr>\n",
       "      <th>2</th>\n",
       "      <td>Philippines</td>\n",
       "      <td>51.81</td>\n",
       "    </tr>\n",
       "  </tbody>\n",
       "</table>\n",
       "</div>\n",
       "      <button class=\"colab-df-convert\" onclick=\"convertToInteractive('df-6d551c24-9ddc-4578-815d-7514e27df82c')\"\n",
       "              title=\"Convert this dataframe to an interactive table.\"\n",
       "              style=\"display:none;\">\n",
       "        \n",
       "  <svg xmlns=\"http://www.w3.org/2000/svg\" height=\"24px\"viewBox=\"0 0 24 24\"\n",
       "       width=\"24px\">\n",
       "    <path d=\"M0 0h24v24H0V0z\" fill=\"none\"/>\n",
       "    <path d=\"M18.56 5.44l.94 2.06.94-2.06 2.06-.94-2.06-.94-.94-2.06-.94 2.06-2.06.94zm-11 1L8.5 8.5l.94-2.06 2.06-.94-2.06-.94L8.5 2.5l-.94 2.06-2.06.94zm10 10l.94 2.06.94-2.06 2.06-.94-2.06-.94-.94-2.06-.94 2.06-2.06.94z\"/><path d=\"M17.41 7.96l-1.37-1.37c-.4-.4-.92-.59-1.43-.59-.52 0-1.04.2-1.43.59L10.3 9.45l-7.72 7.72c-.78.78-.78 2.05 0 2.83L4 21.41c.39.39.9.59 1.41.59.51 0 1.02-.2 1.41-.59l7.78-7.78 2.81-2.81c.8-.78.8-2.07 0-2.86zM5.41 20L4 18.59l7.72-7.72 1.47 1.35L5.41 20z\"/>\n",
       "  </svg>\n",
       "      </button>\n",
       "      \n",
       "  <style>\n",
       "    .colab-df-container {\n",
       "      display:flex;\n",
       "      flex-wrap:wrap;\n",
       "      gap: 12px;\n",
       "    }\n",
       "\n",
       "    .colab-df-convert {\n",
       "      background-color: #E8F0FE;\n",
       "      border: none;\n",
       "      border-radius: 50%;\n",
       "      cursor: pointer;\n",
       "      display: none;\n",
       "      fill: #1967D2;\n",
       "      height: 32px;\n",
       "      padding: 0 0 0 0;\n",
       "      width: 32px;\n",
       "    }\n",
       "\n",
       "    .colab-df-convert:hover {\n",
       "      background-color: #E2EBFA;\n",
       "      box-shadow: 0px 1px 2px rgba(60, 64, 67, 0.3), 0px 1px 3px 1px rgba(60, 64, 67, 0.15);\n",
       "      fill: #174EA6;\n",
       "    }\n",
       "\n",
       "    [theme=dark] .colab-df-convert {\n",
       "      background-color: #3B4455;\n",
       "      fill: #D2E3FC;\n",
       "    }\n",
       "\n",
       "    [theme=dark] .colab-df-convert:hover {\n",
       "      background-color: #434B5C;\n",
       "      box-shadow: 0px 1px 3px 1px rgba(0, 0, 0, 0.15);\n",
       "      filter: drop-shadow(0px 1px 2px rgba(0, 0, 0, 0.3));\n",
       "      fill: #FFFFFF;\n",
       "    }\n",
       "  </style>\n",
       "\n",
       "      <script>\n",
       "        const buttonEl =\n",
       "          document.querySelector('#df-6d551c24-9ddc-4578-815d-7514e27df82c button.colab-df-convert');\n",
       "        buttonEl.style.display =\n",
       "          google.colab.kernel.accessAllowed ? 'block' : 'none';\n",
       "\n",
       "        async function convertToInteractive(key) {\n",
       "          const element = document.querySelector('#df-6d551c24-9ddc-4578-815d-7514e27df82c');\n",
       "          const dataTable =\n",
       "            await google.colab.kernel.invokeFunction('convertToInteractive',\n",
       "                                                     [key], {});\n",
       "          if (!dataTable) return;\n",
       "\n",
       "          const docLinkHtml = 'Like what you see? Visit the ' +\n",
       "            '<a target=\"_blank\" href=https://colab.research.google.com/notebooks/data_table.ipynb>data table notebook</a>'\n",
       "            + ' to learn more about interactive tables.';\n",
       "          element.innerHTML = '';\n",
       "          dataTable['output_type'] = 'display_data';\n",
       "          await google.colab.output.renderOutput(dataTable, element);\n",
       "          const docLink = document.createElement('div');\n",
       "          docLink.innerHTML = docLinkHtml;\n",
       "          element.appendChild(docLink);\n",
       "        }\n",
       "      </script>\n",
       "    </div>\n",
       "  </div>\n",
       "  "
      ],
      "text/plain": [
       "       country  payments\n",
       "0        India    127.16\n",
       "1    Indonesia    157.20\n",
       "2  Philippines     51.81"
      ]
     },
     "execution_count": 21,
     "metadata": {},
     "output_type": "execute_result"
    }
   ],
   "source": [
    "pay_control"
   ]
  },
  {
   "cell_type": "markdown",
   "metadata": {
    "id": "lQlrmEp81pGk"
   },
   "source": [
    "Возможно, это не самые показательные графики, т.к. количество наблюдений в странах разное.  \n",
    "Лучше мы нарисуем конверсию/количество_клиентов, т.е. процент конверсии для каждой страны. И также средний доход с человека для каждой страны."
   ]
  },
  {
   "cell_type": "code",
   "execution_count": 22,
   "metadata": {
    "id": "WSKNigvN30Wr"
   },
   "outputs": [],
   "source": [
    "client_per_country = control.groupby(by='country').count()['conversion'].values"
   ]
  },
  {
   "cell_type": "code",
   "execution_count": 23,
   "metadata": {
    "colab": {
     "base_uri": "https://localhost:8080/",
     "height": 143
    },
    "id": "TiSUcx7A2Ctq",
    "outputId": "d0503dd0-16e1-4394-e22f-f6c7707a9405"
   },
   "outputs": [
    {
     "data": {
      "text/html": [
       "\n",
       "  <div id=\"df-78bd9689-bb52-404a-a80a-a1ee0deb2e8e\">\n",
       "    <div class=\"colab-df-container\">\n",
       "      <div>\n",
       "<style scoped>\n",
       "    .dataframe tbody tr th:only-of-type {\n",
       "        vertical-align: middle;\n",
       "    }\n",
       "\n",
       "    .dataframe tbody tr th {\n",
       "        vertical-align: top;\n",
       "    }\n",
       "\n",
       "    .dataframe thead th {\n",
       "        text-align: right;\n",
       "    }\n",
       "</style>\n",
       "<table border=\"1\" class=\"dataframe\">\n",
       "  <thead>\n",
       "    <tr style=\"text-align: right;\">\n",
       "      <th></th>\n",
       "      <th>country</th>\n",
       "      <th>conversion</th>\n",
       "      <th>conversion_percent</th>\n",
       "    </tr>\n",
       "  </thead>\n",
       "  <tbody>\n",
       "    <tr>\n",
       "      <th>0</th>\n",
       "      <td>India</td>\n",
       "      <td>39.0</td>\n",
       "      <td>0.152344</td>\n",
       "    </tr>\n",
       "    <tr>\n",
       "      <th>1</th>\n",
       "      <td>Indonesia</td>\n",
       "      <td>31.0</td>\n",
       "      <td>0.119691</td>\n",
       "    </tr>\n",
       "    <tr>\n",
       "      <th>2</th>\n",
       "      <td>Philippines</td>\n",
       "      <td>12.0</td>\n",
       "      <td>0.093023</td>\n",
       "    </tr>\n",
       "  </tbody>\n",
       "</table>\n",
       "</div>\n",
       "      <button class=\"colab-df-convert\" onclick=\"convertToInteractive('df-78bd9689-bb52-404a-a80a-a1ee0deb2e8e')\"\n",
       "              title=\"Convert this dataframe to an interactive table.\"\n",
       "              style=\"display:none;\">\n",
       "        \n",
       "  <svg xmlns=\"http://www.w3.org/2000/svg\" height=\"24px\"viewBox=\"0 0 24 24\"\n",
       "       width=\"24px\">\n",
       "    <path d=\"M0 0h24v24H0V0z\" fill=\"none\"/>\n",
       "    <path d=\"M18.56 5.44l.94 2.06.94-2.06 2.06-.94-2.06-.94-.94-2.06-.94 2.06-2.06.94zm-11 1L8.5 8.5l.94-2.06 2.06-.94-2.06-.94L8.5 2.5l-.94 2.06-2.06.94zm10 10l.94 2.06.94-2.06 2.06-.94-2.06-.94-.94-2.06-.94 2.06-2.06.94z\"/><path d=\"M17.41 7.96l-1.37-1.37c-.4-.4-.92-.59-1.43-.59-.52 0-1.04.2-1.43.59L10.3 9.45l-7.72 7.72c-.78.78-.78 2.05 0 2.83L4 21.41c.39.39.9.59 1.41.59.51 0 1.02-.2 1.41-.59l7.78-7.78 2.81-2.81c.8-.78.8-2.07 0-2.86zM5.41 20L4 18.59l7.72-7.72 1.47 1.35L5.41 20z\"/>\n",
       "  </svg>\n",
       "      </button>\n",
       "      \n",
       "  <style>\n",
       "    .colab-df-container {\n",
       "      display:flex;\n",
       "      flex-wrap:wrap;\n",
       "      gap: 12px;\n",
       "    }\n",
       "\n",
       "    .colab-df-convert {\n",
       "      background-color: #E8F0FE;\n",
       "      border: none;\n",
       "      border-radius: 50%;\n",
       "      cursor: pointer;\n",
       "      display: none;\n",
       "      fill: #1967D2;\n",
       "      height: 32px;\n",
       "      padding: 0 0 0 0;\n",
       "      width: 32px;\n",
       "    }\n",
       "\n",
       "    .colab-df-convert:hover {\n",
       "      background-color: #E2EBFA;\n",
       "      box-shadow: 0px 1px 2px rgba(60, 64, 67, 0.3), 0px 1px 3px 1px rgba(60, 64, 67, 0.15);\n",
       "      fill: #174EA6;\n",
       "    }\n",
       "\n",
       "    [theme=dark] .colab-df-convert {\n",
       "      background-color: #3B4455;\n",
       "      fill: #D2E3FC;\n",
       "    }\n",
       "\n",
       "    [theme=dark] .colab-df-convert:hover {\n",
       "      background-color: #434B5C;\n",
       "      box-shadow: 0px 1px 3px 1px rgba(0, 0, 0, 0.15);\n",
       "      filter: drop-shadow(0px 1px 2px rgba(0, 0, 0, 0.3));\n",
       "      fill: #FFFFFF;\n",
       "    }\n",
       "  </style>\n",
       "\n",
       "      <script>\n",
       "        const buttonEl =\n",
       "          document.querySelector('#df-78bd9689-bb52-404a-a80a-a1ee0deb2e8e button.colab-df-convert');\n",
       "        buttonEl.style.display =\n",
       "          google.colab.kernel.accessAllowed ? 'block' : 'none';\n",
       "\n",
       "        async function convertToInteractive(key) {\n",
       "          const element = document.querySelector('#df-78bd9689-bb52-404a-a80a-a1ee0deb2e8e');\n",
       "          const dataTable =\n",
       "            await google.colab.kernel.invokeFunction('convertToInteractive',\n",
       "                                                     [key], {});\n",
       "          if (!dataTable) return;\n",
       "\n",
       "          const docLinkHtml = 'Like what you see? Visit the ' +\n",
       "            '<a target=\"_blank\" href=https://colab.research.google.com/notebooks/data_table.ipynb>data table notebook</a>'\n",
       "            + ' to learn more about interactive tables.';\n",
       "          element.innerHTML = '';\n",
       "          dataTable['output_type'] = 'display_data';\n",
       "          await google.colab.output.renderOutput(dataTable, element);\n",
       "          const docLink = document.createElement('div');\n",
       "          docLink.innerHTML = docLinkHtml;\n",
       "          element.appendChild(docLink);\n",
       "        }\n",
       "      </script>\n",
       "    </div>\n",
       "  </div>\n",
       "  "
      ],
      "text/plain": [
       "       country  conversion  conversion_percent\n",
       "0        India        39.0            0.152344\n",
       "1    Indonesia        31.0            0.119691\n",
       "2  Philippines        12.0            0.093023"
      ]
     },
     "execution_count": 23,
     "metadata": {},
     "output_type": "execute_result"
    }
   ],
   "source": [
    "conv_control['conversion_percent'] = conv_control['conversion'] / client_per_country\n",
    "conv_control"
   ]
  },
  {
   "cell_type": "code",
   "execution_count": 24,
   "metadata": {
    "colab": {
     "base_uri": "https://localhost:8080/",
     "height": 143
    },
    "id": "LMrl2g6G7-wD",
    "outputId": "d3e06c7b-e257-4b99-938f-cf72ff5fe1fc"
   },
   "outputs": [
    {
     "data": {
      "text/html": [
       "\n",
       "  <div id=\"df-e2c229e3-d5de-4706-ac91-214428643616\">\n",
       "    <div class=\"colab-df-container\">\n",
       "      <div>\n",
       "<style scoped>\n",
       "    .dataframe tbody tr th:only-of-type {\n",
       "        vertical-align: middle;\n",
       "    }\n",
       "\n",
       "    .dataframe tbody tr th {\n",
       "        vertical-align: top;\n",
       "    }\n",
       "\n",
       "    .dataframe thead th {\n",
       "        text-align: right;\n",
       "    }\n",
       "</style>\n",
       "<table border=\"1\" class=\"dataframe\">\n",
       "  <thead>\n",
       "    <tr style=\"text-align: right;\">\n",
       "      <th></th>\n",
       "      <th>country</th>\n",
       "      <th>payments</th>\n",
       "      <th>avg_payment</th>\n",
       "    </tr>\n",
       "  </thead>\n",
       "  <tbody>\n",
       "    <tr>\n",
       "      <th>0</th>\n",
       "      <td>India</td>\n",
       "      <td>127.16</td>\n",
       "      <td>0.496719</td>\n",
       "    </tr>\n",
       "    <tr>\n",
       "      <th>1</th>\n",
       "      <td>Indonesia</td>\n",
       "      <td>157.20</td>\n",
       "      <td>0.606950</td>\n",
       "    </tr>\n",
       "    <tr>\n",
       "      <th>2</th>\n",
       "      <td>Philippines</td>\n",
       "      <td>51.81</td>\n",
       "      <td>0.401628</td>\n",
       "    </tr>\n",
       "  </tbody>\n",
       "</table>\n",
       "</div>\n",
       "      <button class=\"colab-df-convert\" onclick=\"convertToInteractive('df-e2c229e3-d5de-4706-ac91-214428643616')\"\n",
       "              title=\"Convert this dataframe to an interactive table.\"\n",
       "              style=\"display:none;\">\n",
       "        \n",
       "  <svg xmlns=\"http://www.w3.org/2000/svg\" height=\"24px\"viewBox=\"0 0 24 24\"\n",
       "       width=\"24px\">\n",
       "    <path d=\"M0 0h24v24H0V0z\" fill=\"none\"/>\n",
       "    <path d=\"M18.56 5.44l.94 2.06.94-2.06 2.06-.94-2.06-.94-.94-2.06-.94 2.06-2.06.94zm-11 1L8.5 8.5l.94-2.06 2.06-.94-2.06-.94L8.5 2.5l-.94 2.06-2.06.94zm10 10l.94 2.06.94-2.06 2.06-.94-2.06-.94-.94-2.06-.94 2.06-2.06.94z\"/><path d=\"M17.41 7.96l-1.37-1.37c-.4-.4-.92-.59-1.43-.59-.52 0-1.04.2-1.43.59L10.3 9.45l-7.72 7.72c-.78.78-.78 2.05 0 2.83L4 21.41c.39.39.9.59 1.41.59.51 0 1.02-.2 1.41-.59l7.78-7.78 2.81-2.81c.8-.78.8-2.07 0-2.86zM5.41 20L4 18.59l7.72-7.72 1.47 1.35L5.41 20z\"/>\n",
       "  </svg>\n",
       "      </button>\n",
       "      \n",
       "  <style>\n",
       "    .colab-df-container {\n",
       "      display:flex;\n",
       "      flex-wrap:wrap;\n",
       "      gap: 12px;\n",
       "    }\n",
       "\n",
       "    .colab-df-convert {\n",
       "      background-color: #E8F0FE;\n",
       "      border: none;\n",
       "      border-radius: 50%;\n",
       "      cursor: pointer;\n",
       "      display: none;\n",
       "      fill: #1967D2;\n",
       "      height: 32px;\n",
       "      padding: 0 0 0 0;\n",
       "      width: 32px;\n",
       "    }\n",
       "\n",
       "    .colab-df-convert:hover {\n",
       "      background-color: #E2EBFA;\n",
       "      box-shadow: 0px 1px 2px rgba(60, 64, 67, 0.3), 0px 1px 3px 1px rgba(60, 64, 67, 0.15);\n",
       "      fill: #174EA6;\n",
       "    }\n",
       "\n",
       "    [theme=dark] .colab-df-convert {\n",
       "      background-color: #3B4455;\n",
       "      fill: #D2E3FC;\n",
       "    }\n",
       "\n",
       "    [theme=dark] .colab-df-convert:hover {\n",
       "      background-color: #434B5C;\n",
       "      box-shadow: 0px 1px 3px 1px rgba(0, 0, 0, 0.15);\n",
       "      filter: drop-shadow(0px 1px 2px rgba(0, 0, 0, 0.3));\n",
       "      fill: #FFFFFF;\n",
       "    }\n",
       "  </style>\n",
       "\n",
       "      <script>\n",
       "        const buttonEl =\n",
       "          document.querySelector('#df-e2c229e3-d5de-4706-ac91-214428643616 button.colab-df-convert');\n",
       "        buttonEl.style.display =\n",
       "          google.colab.kernel.accessAllowed ? 'block' : 'none';\n",
       "\n",
       "        async function convertToInteractive(key) {\n",
       "          const element = document.querySelector('#df-e2c229e3-d5de-4706-ac91-214428643616');\n",
       "          const dataTable =\n",
       "            await google.colab.kernel.invokeFunction('convertToInteractive',\n",
       "                                                     [key], {});\n",
       "          if (!dataTable) return;\n",
       "\n",
       "          const docLinkHtml = 'Like what you see? Visit the ' +\n",
       "            '<a target=\"_blank\" href=https://colab.research.google.com/notebooks/data_table.ipynb>data table notebook</a>'\n",
       "            + ' to learn more about interactive tables.';\n",
       "          element.innerHTML = '';\n",
       "          dataTable['output_type'] = 'display_data';\n",
       "          await google.colab.output.renderOutput(dataTable, element);\n",
       "          const docLink = document.createElement('div');\n",
       "          docLink.innerHTML = docLinkHtml;\n",
       "          element.appendChild(docLink);\n",
       "        }\n",
       "      </script>\n",
       "    </div>\n",
       "  </div>\n",
       "  "
      ],
      "text/plain": [
       "       country  payments  avg_payment\n",
       "0        India    127.16     0.496719\n",
       "1    Indonesia    157.20     0.606950\n",
       "2  Philippines     51.81     0.401628"
      ]
     },
     "execution_count": 24,
     "metadata": {},
     "output_type": "execute_result"
    }
   ],
   "source": [
    "pay_control['avg_payment'] = pay_control['payments'] / client_per_country\n",
    "pay_control"
   ]
  },
  {
   "cell_type": "code",
   "execution_count": 25,
   "metadata": {
    "colab": {
     "base_uri": "https://localhost:8080/",
     "height": 335
    },
    "id": "gmYLTjmi8iLF",
    "outputId": "d3a5392f-0291-49d6-fc6f-86dfa2da25b7"
   },
   "outputs": [
    {
     "data": {
      "image/png": "[encoded data removed]",
      "text/plain": [
       "<Figure size 1080x360 with 2 Axes>"
      ]
     },
     "metadata": {
      "needs_background": "light"
     },
     "output_type": "display_data"
    }
   ],
   "source": [
    "plt.rcParams[\"figure.figsize\"] = (15,5)\n",
    "fig, axes = plt.subplots(1, 2, sharey=True)\n",
    "# fig = plt.figure(figsize=(8, 10))\n",
    "sns.barplot(data=conv_control, x='conversion_percent', y='country', ax=axes[0])\n",
    "sns.barplot(data=pay_control, x='avg_payment', y='country', ax=axes[1])\n",
    "plt.show();"
   ]
  },
  {
   "cell_type": "markdown",
   "metadata": {
    "id": "HNUIAMMu-672"
   },
   "source": [
    "На этих графиках наглядно видно, что средний клиент каждой страны отличается.  \n",
    "В Индии часто заходят посмотреть на услугу, увеличивая нам конверсию. \n",
    "Клиенты из Индонезии более платёжеспособные и приносят нам больше денег в среднем.  \n",
    "Филиппинцы отстают во всём от двух других стран.  \n",
    "\n",
    "Напомню, что в тестовой группе филиппинцев больше, чем в контрольной, клиентов же из Индии и Индонезии в тесте меньше. Вообще говоря, это может исказить наше предположение, что группы теста и контроля гомогенны.\n",
    "\n",
    "Но мы доверимся тем, кто собирал данные и создавал выборку и будем считать, что группы по природе своей однородны и что на изменения в показателях влияет только случайность и наше воздействие на тестовую группу."
   ]
  },
  {
   "cell_type": "markdown",
   "metadata": {
    "id": "FLh9iqqsPcS8"
   },
   "source": [
    "Изучим также исторические средние значения(средние значения контрольной группы) для конверсии и чека, которые поздней будем использовать для формулирования гипотез."
   ]
  },
  {
   "cell_type": "code",
   "execution_count": 26,
   "metadata": {
    "colab": {
     "base_uri": "https://localhost:8080/",
     "height": 300
    },
    "id": "yBnm9eV_JA1L",
    "outputId": "9d22a0b4-7027-4fa4-e385-f78d6063eea8"
   },
   "outputs": [
    {
     "data": {
      "text/html": [
       "\n",
       "  <div id=\"df-f48b3111-3014-4649-b267-34e8ec11a900\">\n",
       "    <div class=\"colab-df-container\">\n",
       "      <div>\n",
       "<style scoped>\n",
       "    .dataframe tbody tr th:only-of-type {\n",
       "        vertical-align: middle;\n",
       "    }\n",
       "\n",
       "    .dataframe tbody tr th {\n",
       "        vertical-align: top;\n",
       "    }\n",
       "\n",
       "    .dataframe thead th {\n",
       "        text-align: right;\n",
       "    }\n",
       "</style>\n",
       "<table border=\"1\" class=\"dataframe\">\n",
       "  <thead>\n",
       "    <tr style=\"text-align: right;\">\n",
       "      <th></th>\n",
       "      <th>conversion</th>\n",
       "      <th>payments</th>\n",
       "    </tr>\n",
       "  </thead>\n",
       "  <tbody>\n",
       "    <tr>\n",
       "      <th>count</th>\n",
       "      <td>644.000000</td>\n",
       "      <td>644.000000</td>\n",
       "    </tr>\n",
       "    <tr>\n",
       "      <th>mean</th>\n",
       "      <td>0.127329</td>\n",
       "      <td>0.522003</td>\n",
       "    </tr>\n",
       "    <tr>\n",
       "      <th>std</th>\n",
       "      <td>0.333600</td>\n",
       "      <td>1.916929</td>\n",
       "    </tr>\n",
       "    <tr>\n",
       "      <th>min</th>\n",
       "      <td>0.000000</td>\n",
       "      <td>0.000000</td>\n",
       "    </tr>\n",
       "    <tr>\n",
       "      <th>25%</th>\n",
       "      <td>0.000000</td>\n",
       "      <td>0.000000</td>\n",
       "    </tr>\n",
       "    <tr>\n",
       "      <th>50%</th>\n",
       "      <td>0.000000</td>\n",
       "      <td>0.000000</td>\n",
       "    </tr>\n",
       "    <tr>\n",
       "      <th>75%</th>\n",
       "      <td>0.000000</td>\n",
       "      <td>0.000000</td>\n",
       "    </tr>\n",
       "    <tr>\n",
       "      <th>max</th>\n",
       "      <td>1.000000</td>\n",
       "      <td>22.770000</td>\n",
       "    </tr>\n",
       "  </tbody>\n",
       "</table>\n",
       "</div>\n",
       "      <button class=\"colab-df-convert\" onclick=\"convertToInteractive('df-f48b3111-3014-4649-b267-34e8ec11a900')\"\n",
       "              title=\"Convert this dataframe to an interactive table.\"\n",
       "              style=\"display:none;\">\n",
       "        \n",
       "  <svg xmlns=\"http://www.w3.org/2000/svg\" height=\"24px\"viewBox=\"0 0 24 24\"\n",
       "       width=\"24px\">\n",
       "    <path d=\"M0 0h24v24H0V0z\" fill=\"none\"/>\n",
       "    <path d=\"M18.56 5.44l.94 2.06.94-2.06 2.06-.94-2.06-.94-.94-2.06-.94 2.06-2.06.94zm-11 1L8.5 8.5l.94-2.06 2.06-.94-2.06-.94L8.5 2.5l-.94 2.06-2.06.94zm10 10l.94 2.06.94-2.06 2.06-.94-2.06-.94-.94-2.06-.94 2.06-2.06.94z\"/><path d=\"M17.41 7.96l-1.37-1.37c-.4-.4-.92-.59-1.43-.59-.52 0-1.04.2-1.43.59L10.3 9.45l-7.72 7.72c-.78.78-.78 2.05 0 2.83L4 21.41c.39.39.9.59 1.41.59.51 0 1.02-.2 1.41-.59l7.78-7.78 2.81-2.81c.8-.78.8-2.07 0-2.86zM5.41 20L4 18.59l7.72-7.72 1.47 1.35L5.41 20z\"/>\n",
       "  </svg>\n",
       "      </button>\n",
       "      \n",
       "  <style>\n",
       "    .colab-df-container {\n",
       "      display:flex;\n",
       "      flex-wrap:wrap;\n",
       "      gap: 12px;\n",
       "    }\n",
       "\n",
       "    .colab-df-convert {\n",
       "      background-color: #E8F0FE;\n",
       "      border: none;\n",
       "      border-radius: 50%;\n",
       "      cursor: pointer;\n",
       "      display: none;\n",
       "      fill: #1967D2;\n",
       "      height: 32px;\n",
       "      padding: 0 0 0 0;\n",
       "      width: 32px;\n",
       "    }\n",
       "\n",
       "    .colab-df-convert:hover {\n",
       "      background-color: #E2EBFA;\n",
       "      box-shadow: 0px 1px 2px rgba(60, 64, 67, 0.3), 0px 1px 3px 1px rgba(60, 64, 67, 0.15);\n",
       "      fill: #174EA6;\n",
       "    }\n",
       "\n",
       "    [theme=dark] .colab-df-convert {\n",
       "      background-color: #3B4455;\n",
       "      fill: #D2E3FC;\n",
       "    }\n",
       "\n",
       "    [theme=dark] .colab-df-convert:hover {\n",
       "      background-color: #434B5C;\n",
       "      box-shadow: 0px 1px 3px 1px rgba(0, 0, 0, 0.15);\n",
       "      filter: drop-shadow(0px 1px 2px rgba(0, 0, 0, 0.3));\n",
       "      fill: #FFFFFF;\n",
       "    }\n",
       "  </style>\n",
       "\n",
       "      <script>\n",
       "        const buttonEl =\n",
       "          document.querySelector('#df-f48b3111-3014-4649-b267-34e8ec11a900 button.colab-df-convert');\n",
       "        buttonEl.style.display =\n",
       "          google.colab.kernel.accessAllowed ? 'block' : 'none';\n",
       "\n",
       "        async function convertToInteractive(key) {\n",
       "          const element = document.querySelector('#df-f48b3111-3014-4649-b267-34e8ec11a900');\n",
       "          const dataTable =\n",
       "            await google.colab.kernel.invokeFunction('convertToInteractive',\n",
       "                                                     [key], {});\n",
       "          if (!dataTable) return;\n",
       "\n",
       "          const docLinkHtml = 'Like what you see? Visit the ' +\n",
       "            '<a target=\"_blank\" href=https://colab.research.google.com/notebooks/data_table.ipynb>data table notebook</a>'\n",
       "            + ' to learn more about interactive tables.';\n",
       "          element.innerHTML = '';\n",
       "          dataTable['output_type'] = 'display_data';\n",
       "          await google.colab.output.renderOutput(dataTable, element);\n",
       "          const docLink = document.createElement('div');\n",
       "          docLink.innerHTML = docLinkHtml;\n",
       "          element.appendChild(docLink);\n",
       "        }\n",
       "      </script>\n",
       "    </div>\n",
       "  </div>\n",
       "  "
      ],
      "text/plain": [
       "       conversion    payments\n",
       "count  644.000000  644.000000\n",
       "mean     0.127329    0.522003\n",
       "std      0.333600    1.916929\n",
       "min      0.000000    0.000000\n",
       "25%      0.000000    0.000000\n",
       "50%      0.000000    0.000000\n",
       "75%      0.000000    0.000000\n",
       "max      1.000000   22.770000"
      ]
     },
     "execution_count": 26,
     "metadata": {},
     "output_type": "execute_result"
    }
   ],
   "source": [
    "control.describe()"
   ]
  },
  {
   "cell_type": "markdown",
   "metadata": {
    "id": "o_7TngjgT-3x"
   },
   "source": [
    "Нас также интересует нормальность распределения данных и гомогенность дисперсий в группах. Это важно для проведения t-testа, например."
   ]
  },
  {
   "cell_type": "code",
   "execution_count": 27,
   "metadata": {
    "colab": {
     "base_uri": "https://localhost:8080/",
     "height": 369
    },
    "id": "YqIYesSkWhzq",
    "outputId": "54ebca97-42dc-464c-d7a5-251de97f1c78"
   },
   "outputs": [
    {
     "data": {
      "image/png": "[encoded data removed]",
      "text/plain": [
       "<Figure size 360x360 with 1 Axes>"
      ]
     },
     "metadata": {
      "needs_background": "light"
     },
     "output_type": "display_data"
    }
   ],
   "source": [
    "sns.displot(data=control, x='payments');"
   ]
  },
  {
   "cell_type": "code",
   "execution_count": 28,
   "metadata": {
    "colab": {
     "base_uri": "https://localhost:8080/"
    },
    "id": "ckl8m4RRUN52",
    "outputId": "6f9c53da-49a3-4be6-95e1-c12dc3c0ad5a"
   },
   "outputs": [
    {
     "data": {
      "text/plain": [
       "(0.0008856044551950971, 0.0003674848649422895)"
      ]
     },
     "execution_count": 28,
     "metadata": {},
     "output_type": "execute_result"
    }
   ],
   "source": [
    "from scipy.stats import levene\n",
    "\n",
    "_, conv_p_value = levene(control['conversion'],  df[df.group == 'test']['conversion'], center='median')\n",
    "_, pay_p_value = levene(control['payments'],  df[df.group == 'test']['payments'], center='median')\n",
    "conv_p_value, pay_p_value"
   ]
  },
  {
   "cell_type": "markdown",
   "metadata": {
    "id": "c9avCpoiXNZs"
   },
   "source": [
    "Из графика и теста Левене видно, что данные распределены не нормально и дисперсии не гомогенны(маленькое p-value у Левене говорит нам о непринятии нулевой гипотезы о равности дисперсий).\n",
    "t-test тут использовать нельзя."
   ]
  },
  {
   "cell_type": "markdown",
   "metadata": {
    "id": "is-cIRZVkOdK"
   },
   "source": [
    "---\n",
    "### Гипотезы и параметры теста"
   ]
  },
  {
   "cell_type": "code",
   "execution_count": 29,
   "metadata": {
    "colab": {
     "base_uri": "https://localhost:8080/"
    },
    "id": "nOrgLFMKHY4k",
    "outputId": "57f3d443-1091-4567-887d-6cc3b87c170d"
   },
   "outputs": [
    {
     "data": {
      "text/plain": [
       "(82.0, 336.17)"
      ]
     },
     "execution_count": 29,
     "metadata": {},
     "output_type": "execute_result"
    }
   ],
   "source": [
    "control.conversion.sum(), control.payments.sum()"
   ]
  },
  {
   "cell_type": "markdown",
   "metadata": {
    "id": "WICR_mKAB8kB"
   },
   "source": [
    "Мы немного посмотрели на данные. Что мы знаем:\n",
    "*   Рамер выборки ~650 \n",
    "*   Исторический mean и std для конверсии: 0.127 и 0.337\n",
    "*   Исторический mean и std для чека: 0.522 и 1.917\n",
    "*   Порог p-value = 0.05, мощность теста = 0.8\n",
    "\n"
   ]
  },
  {
   "cell_type": "markdown",
   "metadata": {
    "id": "1KXmiKuQB87i"
   },
   "source": [
    "И тут я заметил, что в задании не сказано о том, какой MDE(минимальный эффект) мы бы хотели задетектировать для того, чтобы считать тест успешным. Поэтому будем просто рассматривать случай, когда выборки отличаются больше, чем на 0.\n",
    "\n",
    "#### Определим гипотезы. (HA - hypothesis alternative)\n",
    ">1. H0-1 гипотеза: \"Группы не отличаются по уровню конверсии.\"  \n",
    "2. H0-2 гипотеза: \"Группы не отличаются по уровню среднего чека.\"\n",
    "\n",
    "Будем проводить двусторонний A/B тест. \n",
    "> 1. HA-1 гипотеза: \"В тестовой группе конверсия отличается от конверсии в контрольной группе больше, чем на 0.\"  \n",
    "2. HA-2 гипотеза: \"В тестовой группе средний чек отличается от чека в контрольной группе больше, чем на 0.\"\n",
    "\n",
    "---\n",
    "\n",
    ">\n",
    "Наконец мы можем немножко посмотреть на тестовую группу!"
   ]
  },
  {
   "cell_type": "markdown",
   "metadata": {
    "id": "-3fgpsjVlbJZ"
   },
   "source": [
    "### Визуализация разницы теста и контроля"
   ]
  },
  {
   "cell_type": "code",
   "execution_count": 30,
   "metadata": {
    "id": "gSGNyRq_jP_s"
   },
   "outputs": [],
   "source": [
    "plt.rcParams[\"figure.figsize\"] = (8,5)"
   ]
  },
  {
   "cell_type": "code",
   "execution_count": 31,
   "metadata": {
    "colab": {
     "base_uri": "https://localhost:8080/",
     "height": 334
    },
    "id": "jvOosmDMjFiV",
    "outputId": "6382e137-4357-49e8-cb5d-c02d9477e0c0"
   },
   "outputs": [
    {
     "data": {
      "image/png": "[encoded data removed]",
      "text/plain": [
       "<Figure size 576x360 with 1 Axes>"
      ]
     },
     "metadata": {
      "needs_background": "light"
     },
     "output_type": "display_data"
    }
   ],
   "source": [
    "sns.countplot(data=df, x='group', hue='conversion');"
   ]
  },
  {
   "cell_type": "code",
   "execution_count": 32,
   "metadata": {
    "colab": {
     "base_uri": "https://localhost:8080/",
     "height": 143
    },
    "id": "TXKAWLOj7g1g",
    "outputId": "06b5bec3-d8e1-4695-d504-e99b94fe2cb3"
   },
   "outputs": [
    {
     "data": {
      "text/html": [
       "\n",
       "  <div id=\"df-e42d2f1c-3184-401b-af37-ee7a4fb36d1f\">\n",
       "    <div class=\"colab-df-container\">\n",
       "      <div>\n",
       "<style scoped>\n",
       "    .dataframe tbody tr th:only-of-type {\n",
       "        vertical-align: middle;\n",
       "    }\n",
       "\n",
       "    .dataframe tbody tr th {\n",
       "        vertical-align: top;\n",
       "    }\n",
       "\n",
       "    .dataframe thead th {\n",
       "        text-align: right;\n",
       "    }\n",
       "</style>\n",
       "<table border=\"1\" class=\"dataframe\">\n",
       "  <thead>\n",
       "    <tr style=\"text-align: right;\">\n",
       "      <th>conversion</th>\n",
       "      <th>0.0</th>\n",
       "      <th>1.0</th>\n",
       "    </tr>\n",
       "    <tr>\n",
       "      <th>group</th>\n",
       "      <th></th>\n",
       "      <th></th>\n",
       "    </tr>\n",
       "  </thead>\n",
       "  <tbody>\n",
       "    <tr>\n",
       "      <th>control</th>\n",
       "      <td>0.432308</td>\n",
       "      <td>0.063077</td>\n",
       "    </tr>\n",
       "    <tr>\n",
       "      <th>test</th>\n",
       "      <td>0.406154</td>\n",
       "      <td>0.098462</td>\n",
       "    </tr>\n",
       "  </tbody>\n",
       "</table>\n",
       "</div>\n",
       "      <button class=\"colab-df-convert\" onclick=\"convertToInteractive('df-e42d2f1c-3184-401b-af37-ee7a4fb36d1f')\"\n",
       "              title=\"Convert this dataframe to an interactive table.\"\n",
       "              style=\"display:none;\">\n",
       "        \n",
       "  <svg xmlns=\"http://www.w3.org/2000/svg\" height=\"24px\"viewBox=\"0 0 24 24\"\n",
       "       width=\"24px\">\n",
       "    <path d=\"M0 0h24v24H0V0z\" fill=\"none\"/>\n",
       "    <path d=\"M18.56 5.44l.94 2.06.94-2.06 2.06-.94-2.06-.94-.94-2.06-.94 2.06-2.06.94zm-11 1L8.5 8.5l.94-2.06 2.06-.94-2.06-.94L8.5 2.5l-.94 2.06-2.06.94zm10 10l.94 2.06.94-2.06 2.06-.94-2.06-.94-.94-2.06-.94 2.06-2.06.94z\"/><path d=\"M17.41 7.96l-1.37-1.37c-.4-.4-.92-.59-1.43-.59-.52 0-1.04.2-1.43.59L10.3 9.45l-7.72 7.72c-.78.78-.78 2.05 0 2.83L4 21.41c.39.39.9.59 1.41.59.51 0 1.02-.2 1.41-.59l7.78-7.78 2.81-2.81c.8-.78.8-2.07 0-2.86zM5.41 20L4 18.59l7.72-7.72 1.47 1.35L5.41 20z\"/>\n",
       "  </svg>\n",
       "      </button>\n",
       "      \n",
       "  <style>\n",
       "    .colab-df-container {\n",
       "      display:flex;\n",
       "      flex-wrap:wrap;\n",
       "      gap: 12px;\n",
       "    }\n",
       "\n",
       "    .colab-df-convert {\n",
       "      background-color: #E8F0FE;\n",
       "      border: none;\n",
       "      border-radius: 50%;\n",
       "      cursor: pointer;\n",
       "      display: none;\n",
       "      fill: #1967D2;\n",
       "      height: 32px;\n",
       "      padding: 0 0 0 0;\n",
       "      width: 32px;\n",
       "    }\n",
       "\n",
       "    .colab-df-convert:hover {\n",
       "      background-color: #E2EBFA;\n",
       "      box-shadow: 0px 1px 2px rgba(60, 64, 67, 0.3), 0px 1px 3px 1px rgba(60, 64, 67, 0.15);\n",
       "      fill: #174EA6;\n",
       "    }\n",
       "\n",
       "    [theme=dark] .colab-df-convert {\n",
       "      background-color: #3B4455;\n",
       "      fill: #D2E3FC;\n",
       "    }\n",
       "\n",
       "    [theme=dark] .colab-df-convert:hover {\n",
       "      background-color: #434B5C;\n",
       "      box-shadow: 0px 1px 3px 1px rgba(0, 0, 0, 0.15);\n",
       "      filter: drop-shadow(0px 1px 2px rgba(0, 0, 0, 0.3));\n",
       "      fill: #FFFFFF;\n",
       "    }\n",
       "  </style>\n",
       "\n",
       "      <script>\n",
       "        const buttonEl =\n",
       "          document.querySelector('#df-e42d2f1c-3184-401b-af37-ee7a4fb36d1f button.colab-df-convert');\n",
       "        buttonEl.style.display =\n",
       "          google.colab.kernel.accessAllowed ? 'block' : 'none';\n",
       "\n",
       "        async function convertToInteractive(key) {\n",
       "          const element = document.querySelector('#df-e42d2f1c-3184-401b-af37-ee7a4fb36d1f');\n",
       "          const dataTable =\n",
       "            await google.colab.kernel.invokeFunction('convertToInteractive',\n",
       "                                                     [key], {});\n",
       "          if (!dataTable) return;\n",
       "\n",
       "          const docLinkHtml = 'Like what you see? Visit the ' +\n",
       "            '<a target=\"_blank\" href=https://colab.research.google.com/notebooks/data_table.ipynb>data table notebook</a>'\n",
       "            + ' to learn more about interactive tables.';\n",
       "          element.innerHTML = '';\n",
       "          dataTable['output_type'] = 'display_data';\n",
       "          await google.colab.output.renderOutput(dataTable, element);\n",
       "          const docLink = document.createElement('div');\n",
       "          docLink.innerHTML = docLinkHtml;\n",
       "          element.appendChild(docLink);\n",
       "        }\n",
       "      </script>\n",
       "    </div>\n",
       "  </div>\n",
       "  "
      ],
      "text/plain": [
       "conversion       0.0       1.0\n",
       "group                         \n",
       "control     0.432308  0.063077\n",
       "test        0.406154  0.098462"
      ]
     },
     "execution_count": 32,
     "metadata": {},
     "output_type": "execute_result"
    }
   ],
   "source": [
    "pd.crosstab(df['group'], df['conversion'], normalize=True)"
   ]
  },
  {
   "cell_type": "code",
   "execution_count": 33,
   "metadata": {
    "colab": {
     "base_uri": "https://localhost:8080/",
     "height": 143
    },
    "id": "U1L-a09TM0Z3",
    "outputId": "3b49c3e6-cafb-4469-99f5-71efb2830b34"
   },
   "outputs": [
    {
     "data": {
      "text/html": [
       "\n",
       "  <div id=\"df-02c58343-c7dd-49fa-b6dd-b1117cf3b2e7\">\n",
       "    <div class=\"colab-df-container\">\n",
       "      <div>\n",
       "<style scoped>\n",
       "    .dataframe tbody tr th:only-of-type {\n",
       "        vertical-align: middle;\n",
       "    }\n",
       "\n",
       "    .dataframe tbody tr th {\n",
       "        vertical-align: top;\n",
       "    }\n",
       "\n",
       "    .dataframe thead th {\n",
       "        text-align: right;\n",
       "    }\n",
       "</style>\n",
       "<table border=\"1\" class=\"dataframe\">\n",
       "  <thead>\n",
       "    <tr style=\"text-align: right;\">\n",
       "      <th></th>\n",
       "      <th>payments</th>\n",
       "    </tr>\n",
       "    <tr>\n",
       "      <th>group</th>\n",
       "      <th></th>\n",
       "    </tr>\n",
       "  </thead>\n",
       "  <tbody>\n",
       "    <tr>\n",
       "      <th>control</th>\n",
       "      <td>336.17</td>\n",
       "    </tr>\n",
       "    <tr>\n",
       "      <th>test</th>\n",
       "      <td>719.57</td>\n",
       "    </tr>\n",
       "  </tbody>\n",
       "</table>\n",
       "</div>\n",
       "      <button class=\"colab-df-convert\" onclick=\"convertToInteractive('df-02c58343-c7dd-49fa-b6dd-b1117cf3b2e7')\"\n",
       "              title=\"Convert this dataframe to an interactive table.\"\n",
       "              style=\"display:none;\">\n",
       "        \n",
       "  <svg xmlns=\"http://www.w3.org/2000/svg\" height=\"24px\"viewBox=\"0 0 24 24\"\n",
       "       width=\"24px\">\n",
       "    <path d=\"M0 0h24v24H0V0z\" fill=\"none\"/>\n",
       "    <path d=\"M18.56 5.44l.94 2.06.94-2.06 2.06-.94-2.06-.94-.94-2.06-.94 2.06-2.06.94zm-11 1L8.5 8.5l.94-2.06 2.06-.94-2.06-.94L8.5 2.5l-.94 2.06-2.06.94zm10 10l.94 2.06.94-2.06 2.06-.94-2.06-.94-.94-2.06-.94 2.06-2.06.94z\"/><path d=\"M17.41 7.96l-1.37-1.37c-.4-.4-.92-.59-1.43-.59-.52 0-1.04.2-1.43.59L10.3 9.45l-7.72 7.72c-.78.78-.78 2.05 0 2.83L4 21.41c.39.39.9.59 1.41.59.51 0 1.02-.2 1.41-.59l7.78-7.78 2.81-2.81c.8-.78.8-2.07 0-2.86zM5.41 20L4 18.59l7.72-7.72 1.47 1.35L5.41 20z\"/>\n",
       "  </svg>\n",
       "      </button>\n",
       "      \n",
       "  <style>\n",
       "    .colab-df-container {\n",
       "      display:flex;\n",
       "      flex-wrap:wrap;\n",
       "      gap: 12px;\n",
       "    }\n",
       "\n",
       "    .colab-df-convert {\n",
       "      background-color: #E8F0FE;\n",
       "      border: none;\n",
       "      border-radius: 50%;\n",
       "      cursor: pointer;\n",
       "      display: none;\n",
       "      fill: #1967D2;\n",
       "      height: 32px;\n",
       "      padding: 0 0 0 0;\n",
       "      width: 32px;\n",
       "    }\n",
       "\n",
       "    .colab-df-convert:hover {\n",
       "      background-color: #E2EBFA;\n",
       "      box-shadow: 0px 1px 2px rgba(60, 64, 67, 0.3), 0px 1px 3px 1px rgba(60, 64, 67, 0.15);\n",
       "      fill: #174EA6;\n",
       "    }\n",
       "\n",
       "    [theme=dark] .colab-df-convert {\n",
       "      background-color: #3B4455;\n",
       "      fill: #D2E3FC;\n",
       "    }\n",
       "\n",
       "    [theme=dark] .colab-df-convert:hover {\n",
       "      background-color: #434B5C;\n",
       "      box-shadow: 0px 1px 3px 1px rgba(0, 0, 0, 0.15);\n",
       "      filter: drop-shadow(0px 1px 2px rgba(0, 0, 0, 0.3));\n",
       "      fill: #FFFFFF;\n",
       "    }\n",
       "  </style>\n",
       "\n",
       "      <script>\n",
       "        const buttonEl =\n",
       "          document.querySelector('#df-02c58343-c7dd-49fa-b6dd-b1117cf3b2e7 button.colab-df-convert');\n",
       "        buttonEl.style.display =\n",
       "          google.colab.kernel.accessAllowed ? 'block' : 'none';\n",
       "\n",
       "        async function convertToInteractive(key) {\n",
       "          const element = document.querySelector('#df-02c58343-c7dd-49fa-b6dd-b1117cf3b2e7');\n",
       "          const dataTable =\n",
       "            await google.colab.kernel.invokeFunction('convertToInteractive',\n",
       "                                                     [key], {});\n",
       "          if (!dataTable) return;\n",
       "\n",
       "          const docLinkHtml = 'Like what you see? Visit the ' +\n",
       "            '<a target=\"_blank\" href=https://colab.research.google.com/notebooks/data_table.ipynb>data table notebook</a>'\n",
       "            + ' to learn more about interactive tables.';\n",
       "          element.innerHTML = '';\n",
       "          dataTable['output_type'] = 'display_data';\n",
       "          await google.colab.output.renderOutput(dataTable, element);\n",
       "          const docLink = document.createElement('div');\n",
       "          docLink.innerHTML = docLinkHtml;\n",
       "          element.appendChild(docLink);\n",
       "        }\n",
       "      </script>\n",
       "    </div>\n",
       "  </div>\n",
       "  "
      ],
      "text/plain": [
       "         payments\n",
       "group            \n",
       "control    336.17\n",
       "test       719.57"
      ]
     },
     "execution_count": 33,
     "metadata": {},
     "output_type": "execute_result"
    }
   ],
   "source": [
    "df[['group', 'payments']].groupby(by='group').sum()"
   ]
  },
  {
   "cell_type": "code",
   "execution_count": 34,
   "metadata": {
    "colab": {
     "base_uri": "https://localhost:8080/",
     "height": 334
    },
    "id": "LM0eUp_ZMTxS",
    "outputId": "d9067ae5-9e7f-45b5-882f-3d35e0c46c88"
   },
   "outputs": [
    {
     "data": {
      "image/png": "[encoded data removed]",
      "text/plain": [
       "<Figure size 576x360 with 1 Axes>"
      ]
     },
     "metadata": {
      "needs_background": "light"
     },
     "output_type": "display_data"
    }
   ],
   "source": [
    "sns.boxplot(data=df, y='payments', x='group');"
   ]
  },
  {
   "cell_type": "markdown",
   "metadata": {
    "id": "4r9fzyz-j25Y"
   },
   "source": [
    "Нулевые значения слишком сильно \"скашивают\" распределение, давайте посмотрим график только для тех, где покупка была совершена."
   ]
  },
  {
   "cell_type": "code",
   "execution_count": 35,
   "metadata": {
    "colab": {
     "base_uri": "https://localhost:8080/",
     "height": 334
    },
    "id": "t5DvsHeaMYD4",
    "outputId": "f466f43a-4fd0-41c7-f945-93a97e9a93aa"
   },
   "outputs": [
    {
     "data": {
      "image/png": "[encoded data removed]",
      "text/plain": [
       "<Figure size 576x360 with 1 Axes>"
      ]
     },
     "metadata": {
      "needs_background": "light"
     },
     "output_type": "display_data"
    }
   ],
   "source": [
    "sns.boxplot(data=df[df['conversion'] == 1], y='payments', x='group', order=['control', 'test']);"
   ]
  },
  {
   "cell_type": "markdown",
   "metadata": {
    "id": "DuWRjpfQjuis"
   },
   "source": [
    "По графикам и таблицам можно увидеть некоторую разницу.  \n",
    "Процент конверсии увеличился, это видно. \n",
    "\n",
    "Средний чек по медиане всё ещё выглядит сравнительно похожим для теста и контроля, но хвост дорогих покупок(точек-выбросов на графике) увеличился для теста почти в два раза.\n",
    "\n",
    "---\n",
    "\n",
    "## Bootstrap\n",
    "\n",
    "Давайте посмотрим, насколько значимы различия. Т.к. дисперсии не гомогенны и данные не распределены нормально, мы не будем использовать t-test. \n",
    "\n",
    "Используем бутстрап и посмотрим на разницы средних значений. Если их доверительные интервалы не пересекаются с нулём, то разница в группах будет статистически значимой."
   ]
  },
  {
   "cell_type": "markdown",
   "metadata": {
    "id": "HGNYxP4rsg6H"
   },
   "source": [
    "Используем вот такой бутстрап для двусторонней проверки гипотезы, оценивающий разницу двух групп с визуализацией доверительных интервалов."
   ]
  },
  {
   "cell_type": "code",
   "execution_count": 36,
   "metadata": {
    "id": "PizCOy2JlX4b"
   },
   "outputs": [],
   "source": [
    "from tqdm import tqdm\n",
    "from scipy.stats import norm\n",
    "\n",
    "def get_bootstrap(\n",
    "    data_column_1, # first group samples\n",
    "    data_column_2, # second group samples\n",
    "    boot_it = 1000, # amount of bootstrap iterations\n",
    "    statistic = np.mean, # statistic we are looking for\n",
    "    bootstrap_conf_level = 0.95 # confidence level\n",
    "):\n",
    "    boot_len = max([len(data_column_1), len(data_column_2)])\n",
    "    boot_data = []\n",
    "    for i in tqdm(range(boot_it)): # extraction of subsamples\n",
    "        samples_1 = data_column_1.sample(\n",
    "            boot_len, \n",
    "            replace = True # with returns because it's bootstrap\n",
    "        ).values\n",
    "        \n",
    "        samples_2 = data_column_2.sample(\n",
    "            boot_len,\n",
    "            replace = True\n",
    "        ).values\n",
    "        \n",
    "        boot_data.append(statistic(samples_1-samples_2)) \n",
    "    pd_boot_data = pd.DataFrame(boot_data)\n",
    "        \n",
    "    left_quant = (1 - bootstrap_conf_level)/2\n",
    "    right_quant = 1 - (1 - bootstrap_conf_level) / 2\n",
    "    quants = pd_boot_data.quantile([left_quant, right_quant])\n",
    "        \n",
    "    p_1 = norm.cdf(\n",
    "        x = 0, \n",
    "        loc = np.mean(boot_data), \n",
    "        scale = np.std(boot_data)\n",
    "    )\n",
    "    p_2 = norm.cdf(\n",
    "        x = 0, \n",
    "        loc = -np.mean(boot_data), \n",
    "        scale = np.std(boot_data)\n",
    "    )\n",
    "    p_value = min(p_1, p_2) * 2\n",
    "        \n",
    "    # visualization\n",
    "    _, _, bars = plt.hist(pd_boot_data[0], bins = 50)\n",
    "    for bar in bars:\n",
    "        if abs(bar.get_x()) <= quants.iloc[0][0] or abs(bar.get_x()) >= quants.iloc[1][0]:\n",
    "            bar.set_facecolor('red')\n",
    "        else: \n",
    "            bar.set_facecolor('grey')\n",
    "            bar.set_edgecolor('black')\n",
    "    \n",
    "    # plt.style.use('ggplot')\n",
    "    plt.vlines(quants,ymin=0,ymax=50,linestyle='--')\n",
    "    plt.xlabel('boot_data')\n",
    "    plt.ylabel('frequency')\n",
    "    plt.title(\"Histogram of boot_data\")\n",
    "    plt.show()\n",
    "       \n",
    "    return {\"boot_data\": boot_data, \n",
    "            \"quants\": quants, \n",
    "            \"p_value\": p_value}"
   ]
  },
  {
   "cell_type": "markdown",
   "metadata": {
    "id": "9tKjviokuu2j"
   },
   "source": [
    "#### Разница в проценте конверсии"
   ]
  },
  {
   "cell_type": "code",
   "execution_count": 37,
   "metadata": {
    "colab": {
     "base_uri": "https://localhost:8080/",
     "height": 387
    },
    "id": "taO7LAE3mYPj",
    "outputId": "12ac1b10-a485-4a4c-93ec-efdffb4929a9"
   },
   "outputs": [
    {
     "name": "stderr",
     "output_type": "stream",
     "text": [
      "100%|██████████| 1000/1000 [00:00<00:00, 3693.86it/s]\n"
     ]
    },
    {
     "data": {
      "image/png": "[encoded data removed]",
      "text/plain": [
       "<Figure size 576x360 with 1 Axes>"
      ]
     },
     "metadata": {
      "needs_background": "light"
     },
     "output_type": "display_data"
    },
    {
     "name": "stdout",
     "output_type": "stream",
     "text": [
      "P_VALUE =  0.0006334047823479689\n"
     ]
    }
   ],
   "source": [
    "booted_data = get_bootstrap(\n",
    "    df[df['group'] == 'test']['conversion'],\n",
    "    df[df['group'] == 'control']['conversion'],\n",
    ")\n",
    "print('P_VALUE = ', booted_data['p_value'])"
   ]
  },
  {
   "cell_type": "markdown",
   "metadata": {
    "id": "w0djgG9Sup5s"
   },
   "source": [
    "#### Разница с среднем чеке"
   ]
  },
  {
   "cell_type": "code",
   "execution_count": 38,
   "metadata": {
    "colab": {
     "base_uri": "https://localhost:8080/",
     "height": 387
    },
    "id": "QfRTtzQHmpE5",
    "outputId": "e0cb68cd-0420-40d3-94c4-740295a73f39"
   },
   "outputs": [
    {
     "name": "stderr",
     "output_type": "stream",
     "text": [
      "100%|██████████| 1000/1000 [00:00<00:00, 3523.18it/s]\n"
     ]
    },
    {
     "data": {
      "image/png": "[encoded data removed]",
      "text/plain": [
       "<Figure size 576x360 with 1 Axes>"
      ]
     },
     "metadata": {
      "needs_background": "light"
     },
     "output_type": "display_data"
    },
    {
     "name": "stdout",
     "output_type": "stream",
     "text": [
      "P_VALUE =  0.00019326013601199987\n"
     ]
    }
   ],
   "source": [
    "booted_data = get_bootstrap(\n",
    "    df[df['group'] == 'test']['payments'],\n",
    "    df[df['group'] == 'control']['payments'],\n",
    ")\n",
    "print('P_VALUE = ', booted_data['p_value'])"
   ]
  },
  {
   "cell_type": "markdown",
   "metadata": {
    "id": "W-P7YkRvnDUF"
   },
   "source": [
    "## Выводы\n",
    "Очевидно, что по обеим метрикам мы получили статистически значимые различия!  \n",
    "Даже если мы применим самую консервативную поправку Бонферрони, оба полученных p-value находятся ниже, чем 0.025 = 0.05/2 (Бонферрони для двух тестов).\n",
    "\n",
    "Отлично, таким образом мы принимаем обе альтернативные гипотезы.  \n",
    "Наше улучшение для тестовой группы показало себя отлично. Можно выкатывать его на прод, ура!\n",
    "\n",
    "*Последнее замечание*: метрики конверсии и среднего чека связаны друг с другом. Об этом стоит помнить, т.к увеличение конверсии само по себе увеличивает средний чек на одного пользователя даже в случае, если распределение средних чеков остаётся тем же. \n",
    "Я не уверен, надо ли оценивать и показывать эту связь. Возможно, тут стоит советоваться с бизнесом."
   ]
  }
 ],
 "metadata": {
  "colab": {
   "provenance": []
  },
  "kernelspec": {
   "display_name": "Python 3 (ipykernel)",
   "language": "python",
   "name": "python3"
  },
  "language_info": {
   "codemirror_mode": {
    "name": "ipython",
    "version": 3
   },
   "file_extension": ".py",
   "mimetype": "text/x-python",
   "name": "python",
   "nbconvert_exporter": "python",
   "pygments_lexer": "ipython3",
   "version": "3.8.13"
  }
 },
 "nbformat": 4,
 "nbformat_minor": 1
}
